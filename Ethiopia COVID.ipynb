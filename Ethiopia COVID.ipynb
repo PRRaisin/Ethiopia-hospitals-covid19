{
 "cells": [
  {
   "cell_type": "markdown",
   "metadata": {},
   "source": [
    "# COVID Hospital mapping for Spain\n",
    "This notebook recreates the analysis performed by Bruno Sanchez for Spain. \n",
    "It is prototyping code, so don't expect too much.\n",
    "\n",
    "## Download the OSM data for Ethiopa"
   ]
  },
  {
   "cell_type": "code",
   "execution_count": null,
   "outputs": [
    {
     "name": "stdout",
     "output_type": "stream",
     "text": [
      "\u001B[KWelcome to fish, the friendly interactive shell[30m\u001B[m\u001B[1m\u001B[30m⏎\u001B[m                                                                               \r\n",
      "Type `help` for instructions on how to use fish\r\n",
      "\u001B[32mPhilippe\u001B[m@\u001B[m192\u001B[m \u001B[32m~/P/covid19\u001B[m (master)\u001B[m> \u001B[K[m"
     ]
    }
   ],
   "source": [
    "!fish\n",
    "!set BBOX \"39.1316150933459284, 8.2278188964048251, 39.9188985300577457, 8.7135061906947033\n",
    "wget -P data/ -O eth-AOI-1.osm \"http://overpass.openstreetmap.ru/cgi/xapi_meta?*[bbox=$BBOX]\"\n",
    "osmconvert -v eth-AOI-1.osm -o=eth-AOI-1.o5m\n"
   ],
   "metadata": {
    "collapsed": false,
    "pycharm": {
     "name": "#%%\n",
     "is_executing": true
    }
   }
  },
  {
   "cell_type": "markdown",
   "source": [
    "## Start the OSM routing engine"
   ],
   "metadata": {
    "collapsed": false,
    "pycharm": {
     "name": "#%% md\n"
    }
   }
  },
  {
   "cell_type": "code",
   "execution_count": null,
   "metadata": {},
   "outputs": [],
   "source": [
    "# for some reason, I had to use OSRM-contract instead of the usual routine. Also, we use algorithm \"ch\"\n",
    "!docker run -t -v \"$PWD:/data\" osrm/osrm-backend osrm-extract -p /opt/car.lua /data/asturias.osm\n",
    "!docker run -t -v \"$PWD:/data\" osrm/osrm-backend osrm-contract /data/eth-AOI-1.osrm\n",
    "!docker run -t -i -p 5000:5000 -v $PWD:/data osrm/osrm-backend osrm-routed --algorithm ch /data/asturias.osrm\n"
   ]
  },
  {
   "cell_type": "markdown",
   "metadata": {},
   "source": [
    "## Read the settlement data"
   ]
  },
  {
   "cell_type": "code",
   "execution_count": 6,
   "outputs": [],
   "source": [
    "map_file = \"./QGIS files/Ethiopia_AOI1/layers/AOI-1_population_eth_2018-10-01.tif\"\n",
    "# TODO There is probably a better way\n",
    "# data_folder=Path('.')/'data'/location"
   ],
   "metadata": {
    "collapsed": false,
    "pycharm": {
     "name": "#%%\n"
    }
   }
  },
  {
   "cell_type": "code",
   "execution_count": 30,
   "metadata": {},
   "outputs": [],
   "source": [
    "import numpy as np\n",
    "import rasterio\n",
    "import pandas as pd\n",
    "from rasterio.windows import Window\n",
    "from matplotlib import pyplot\n",
    "\n",
    "def get_pop(map_file,left_x,top_y,window,plot=False):\n",
    "    \"\"\"\n",
    "    get_pop(raster filename,left_x,top_y,window,plot=False)\n",
    "    \n",
    "    Given a raster file, and row,cols ranges,\n",
    "    return the lonlat of the ranges, nancount, and the nunsum\n",
    "    \n",
    "    Optionally plot the raster window [False]\n",
    "    \"\"\"\n",
    "    right_x,bottom_y = left_x + window, top_y + window\n",
    "    with rasterio.open(map_file) as src:\n",
    "        left_lon, top_lat = src.xy(top_y,left_x)\n",
    "        right_lon, bottom_lat = src.xy(bottom_y, right_x )\n",
    "        center_lon , center_lat = (right_lon + left_lon)/2., (top_lat+bottom_lat)/2.\n",
    "                             #Window(col_off, row_off, width, height)\n",
    "        w = src.read(1, window=Window(left_x, top_y, window, window))\n",
    "        if plot:\n",
    "            pyplot.imshow(w, cmap='pink')\n",
    "            pyplot.show()\n",
    "        nancount=np.count_nonzero(~np.isnan(w))\n",
    "        count = np.size(w)\n",
    "        tot_pop=np.nansum(w)\n",
    "    if count == 0:\n",
    "        return {} #Out of bounds\n",
    "    if tot_pop == 0 or window < 1: #Mark the window no further split.\n",
    "        split=False\n",
    "    else:\n",
    "        split=True\n",
    "    out={'window':window,\n",
    "         'left_x':left_x,\n",
    "         'right_x':right_x,\n",
    "         'top_y':top_y,\n",
    "         'bottom_y':bottom_y,\n",
    "         'left_lon':left_lon, \n",
    "         'top_lat':top_lat, \n",
    "         'right_lon':right_lon,\n",
    "         'bottom_lat':bottom_lat,\n",
    "         'center_lon':center_lon , \n",
    "         'center_lat':center_lat,\n",
    "         'count': count,\n",
    "         'nancount':nancount,\n",
    "         'tot_pop':tot_pop,\n",
    "         'split': split}\n",
    "    return out"
   ]
  },
  {
   "cell_type": "code",
   "execution_count": 32,
   "metadata": {},
   "outputs": [
    {
     "name": "stdout",
     "output_type": "stream",
     "text": [
      "2000/2834\r"
     ]
    }
   ],
   "source": [
    "# TODO : Does it matter if the origins have different sizes? NO, I don't think so actually.\n",
    "#Scan the raster map with big windows\n",
    "origins=pd.DataFrame()\n",
    "window=2000\n",
    "with rasterio.open(map_file) as src:\n",
    "    a=src.xy(0,1)\n",
    "    for left_x in np.arange(0,src.width,window):\n",
    "        for top_y in np.arange(0,src.height,window):\n",
    "            out=get_pop(map_file,left_x,top_y,window,plot=False)\n",
    "            if out != {}:\n",
    "                origins=origins.append([out])\n",
    "        print(\"%i/%i\\r\"%(left_x,src.width),end=\"\")\n"
   ]
  },
  {
   "cell_type": "code",
   "execution_count": 33,
   "outputs": [],
   "source": [
    "def split(map_file,origin,plot=False):\n",
    "    \"\"\"\n",
    "    Split a window row in 4 parts, and return new rows results\n",
    "    \"\"\"\n",
    "    origins=pd.DataFrame()\n",
    "    window=int(origin.window/2)\n",
    "    for left_x in np.arange(origin.left_x,origin.right_x,window):\n",
    "        for top_y in np.arange(origin.top_y,origin.bottom_y,window):\n",
    "            out=get_pop(map_file,left_x,top_y,window,plot=plot)\n",
    "            if out != {}:\n",
    "                origins=origins.append([out])\n",
    "    return origins"
   ],
   "metadata": {
    "collapsed": false,
    "pycharm": {
     "name": "#%%\n"
    }
   }
  },
  {
   "cell_type": "code",
   "execution_count": 38,
   "outputs": [
    {
     "name": "stdout",
     "output_type": "stream",
     "text": [
      "321 regions need splitting\n",
      "done.38\n",
      "We now have 3220 regions, 2643 will be split in next round\n"
     ]
    }
   ],
   "source": [
    "#Do a splitting pass\n",
    "#run this cell as many times as you want to split the windows\n",
    "print(\"%i regions need splitting\"%len(origins[origins['split']==True]))\n",
    "olen=len(origins)\n",
    "for i in np.arange(olen):\n",
    "    print(\"%i/%i\\r\"%(i+1,olen),end=\"\")\n",
    "    if origins.iloc[i,origins.columns.get_loc('split')] == True:\n",
    "        origins.iloc[i,origins.columns.get_loc('split')]='done'\n",
    "        s=split(map_file,origins.iloc[i])\n",
    "        origins=origins.append(s,sort=False)\n",
    "print(\"done.\")\n",
    "print(\"We now have %i regions, %i will be split in next round\"%(len(origins),len(origins[origins['split']==True])))\n"
   ],
   "metadata": {
    "collapsed": false,
    "pycharm": {
     "name": "#%%\n"
    }
   }
  },
  {
   "cell_type": "code",
   "execution_count": 41,
   "metadata": {},
   "outputs": [
    {
     "name": "stdout",
     "output_type": "stream",
     "text": [
      "We have 2643 regions of size 62, 2643 with population >0\n"
     ]
    }
   ],
   "source": [
    "# only keep the origins which have more than one person living and only\n",
    "# the throw out the entries which have been split (otherwise we have copies)\n",
    "origins=origins[origins['tot_pop']>0]\n",
    "origins=origins[origins['split']!='done']\n",
    "print(\"We have %i regions of size %i, %i with population >0\"%\n",
    "      (len(origins),min(origins['window']),len(origins[origins['tot_pop']>0])))"
   ]
  },
  {
   "cell_type": "code",
   "execution_count": 42,
   "metadata": {},
   "outputs": [],
   "source": [
    "#make it geopandas settin a bounding box TODO: EPSG:4327 is deprecated, I think\n",
    "# we should use EPSG:4326\n",
    "import geopandas as gdp\n",
    "from shapely.geometry import Point\n",
    "from shapely.geometry import box\n",
    "origins=gdp.GeoDataFrame(origins,crs='epsg:4327', geometry=[Point(xy) for xy in zip(origins['center_lon'], origins['center_lat'])])\n",
    "origins.geometry=origins.apply(lambda r: box(r.left_lon, r.bottom_lat, r.right_lon, r.top_lat, ccw=False),axis=1)"
   ]
  },
  {
   "cell_type": "code",
   "execution_count": 47,
   "metadata": {},
   "outputs": [],
   "source": [
    "origins.to_file(driver = 'ESRI Shapefile', filename = 'test_origins.shp')"
   ]
  },
  {
   "cell_type": "code",
   "execution_count": 44,
   "metadata": {},
   "outputs": [
    {
     "data": {
      "text/plain": "<matplotlib.axes._subplots.AxesSubplot at 0x12ab23790>"
     },
     "execution_count": 44,
     "metadata": {},
     "output_type": "execute_result"
    },
    {
     "data": {
      "text/plain": "<Figure size 864x576 with 1 Axes>",
      "image/png": "[encoded data removed]"
     },
     "metadata": {
      "needs_background": "light"
     },
     "output_type": "display_data"
    }
   ],
   "source": [
    "origins.plot()"
   ]
  },
  {
   "cell_type": "markdown",
   "metadata": {},
   "source": [
    "## import hospitals"
   ]
  },
  {
   "cell_type": "code",
   "execution_count": 60,
   "outputs": [
    {
     "name": "stdout",
     "output_type": "stream",
     "text": [
      "There are 10 hospital destinations\n"
     ]
    }
   ],
   "source": [
    "import geopandas as gpd\n",
    "\n",
    "fname = \"./data/Ethiopia_AOI-1/layers/AOI-1_hospitals.shp\"\n",
    "df = gpd.read_file(fname).to_crs('epsg:4326')\n",
    "\n",
    "df['lon']=df.geometry.centroid.x\n",
    "df['lat']=df.geometry.centroid.y\n",
    "df['name']=df['Facility n']\n",
    "hospitals=df[['name','lon','lat','geometry']]\n",
    "print(\"There are %i hospital destinations\"%len(hospitals))"
   ],
   "metadata": {
    "collapsed": false,
    "pycharm": {
     "name": "#%%\n"
    }
   }
  },
  {
   "cell_type": "markdown",
   "source": [
    "## calculate travel times"
   ],
   "metadata": {
    "collapsed": false,
    "pycharm": {
     "name": "#%% md\n"
    }
   }
  },
  {
   "cell_type": "code",
   "execution_count": 97,
   "outputs": [],
   "source": [
    "# prepare hospital locations to be fed into the OSRM engine as strings\n",
    "hospitals_loc=\";\".join([str(i[1])+','+str(i[0]) for i in hospitals[['lat','lon']].values])"
   ],
   "metadata": {
    "collapsed": false,
    "pycharm": {
     "name": "#%%\n"
    }
   }
  },
  {
   "cell_type": "code",
   "execution_count": 93,
   "outputs": [],
   "source": [
    "# Function to only keep the five closest hospitals to calculate the distances to\n",
    "def n_closest_geodetic(destinations,origins,n_keep,verbose=False):\n",
    "    \"\"\"\n",
    "    Given a list of origins and destinations, return the \"keep\" number\n",
    "    of destinations that are closest geodetically to each origin.\n",
    "\n",
    "    Input: destinations,origins <Geopandas>\n",
    "    Output: destinations filtered <Geopandas>\n",
    "    \"\"\"\n",
    "    destinations=destinations.to_crs(origins.crs)\n",
    "    filtered=gdp.GeoDataFrame()\n",
    "    if verbose:\n",
    "        i=0\n",
    "        l=len(origins.index)\n",
    "    for index in origins.index:\n",
    "        if verbose:\n",
    "            i=i+1\n",
    "            print(\"Doing %i of %i\\r\"%(i,l),end=\"\")\n",
    "        distances=destinations.distance(origins.loc[index].geometry)\n",
    "        if len(distances) < n_keep:\n",
    "            n_keep = len(distances)\n",
    "        #query indices\n",
    "        indices=np.argsort(distances.values)[:n_keep]\n",
    "        values=np.sort(distances.values)[:n_keep]\n",
    "        #destination indices\n",
    "        d_indices=distances.index[indices]\n",
    "        filtered = filtered.append(destinations.iloc[indices])\n",
    "\n",
    "        break\n",
    "    if verbose:\n",
    "        print('done')\n",
    "    return filtered.append(filtered).drop_duplicates(inplace=False)"
   ],
   "metadata": {
    "collapsed": false,
    "pycharm": {
     "name": "#%%\n"
    }
   }
  },
  {
   "cell_type": "code",
   "execution_count": 94,
   "outputs": [
    {
     "name": "stdout",
     "output_type": "stream",
     "text": [
      "doneg 1 of 5\n",
      "              name      lon     lat                       geometry\n",
      "3  Wonji1 Hospital  39.2709  8.5420  MULTIPOINT (39.27090 8.54200)\n",
      "4   Adama Hospital  39.2723  8.5426  MULTIPOINT (39.27230 8.54260)\n"
     ]
    }
   ],
   "source": [
    "# List of all the hospitals which are at least for one of the origin points\n",
    "# among the top \"n_keep\" hospitals wrt geodesic distance.\n",
    "test_o = origins.sample(frac=1).reset_index(drop=True).head(5)\n",
    "test_d = hospitals.sample(frac=1).reset_index(drop=True).head(10)\n",
    "filtered = n_closest_geodetic(test_d,test_o,2,verbose=True)\n",
    "\n"
   ],
   "metadata": {
    "collapsed": false,
    "pycharm": {
     "name": "#%%\n"
    }
   }
  },
  {
   "cell_type": "code",
   "execution_count": 95,
   "outputs": [],
   "source": [
    "# go in\n",
    "h=hospitals.reset_index(drop=True)\n",
    "o=origins.reset_index(drop=True)"
   ],
   "metadata": {
    "collapsed": false,
    "pycharm": {
     "name": "#%%\n"
    }
   }
  },
  {
   "cell_type": "code",
   "execution_count": null,
   "outputs": [],
   "source": [
    "# save the data for later usage\n",
    "import pickle\n",
    "#SAVE\n",
    "with open('data/h-o12k.pickle', 'wb') as handle:\n",
    "    pickle.dump([h,o], handle, protocol=pickle.HIGHEST_PROTOCOL)"
   ],
   "metadata": {
    "collapsed": false,
    "pycharm": {
     "name": "#%%\n"
    }
   }
  },
  {
   "cell_type": "code",
   "execution_count": null,
   "outputs": [],
   "source": [
    "import pickle\n",
    "#LOAD\n",
    "with open(data_folder/'h-o52k.pickle', 'rb') as handle:\n",
    "    h,o = pickle.load(handle)"
   ],
   "metadata": {
    "collapsed": false,
    "pycharm": {
     "name": "#%%\n"
    }
   }
  },
  {
   "cell_type": "code",
   "execution_count": 101,
   "outputs": [
    {
     "name": "stdout",
     "output_type": "stream",
     "text": [
      "Doing batch 26, [2600,2700] of 2643\r"
     ]
    }
   ],
   "source": [
    "import requests #http framework to make mhvpl requests for routes\n",
    "import json # handle response as json\n",
    "from geopy.distance import vincenty\n",
    "import pickle\n",
    "\n",
    "# osrm server address\n",
    "osrm_server=\"http://0.0.0.0:5000\"\n",
    "server=osrm_server+\"/table/v1/driving/\"\n",
    "comma=\"%2C\"\n",
    "Sep=\"%3B\"\n",
    "\n",
    "batch=100\n",
    "usual_origin='hospital'\n",
    "\n",
    "origins = o\n",
    "hospitals = h\n",
    "\n",
    "buffer=10/60.  #10 minutes, in hours\n",
    "overalpenalty=1.05  #5%\n",
    "\n",
    "# create a new column in the Geodataframe for the time and initilize with -1\n",
    "origins['t_'+usual_origin]=-1\n",
    "origins['m_'+usual_origin]=-1\n",
    "\n",
    "for i in np.arange(origins.shape[0]/batch):\n",
    "    print(\"Doing batch %i, [%i,%i] of %i\"\n",
    "          %(i,batch*i,batch*(i+1),origins.shape[0]),end=\"\\r\")\n",
    "    origins_batch=origins.iloc[int(batch*i):].head(n=batch)\n",
    "\n",
    "    destinations=\";\".join([str(i[1])+','+str(i[0]) for i in origins_batch[['center_lat','center_lon']].values])\n",
    "    destinations_number=origins_batch.index\n",
    "\n",
    "    trail=\".json?destinations=\"+\\\n",
    "    ';'.join([str(x) for x in np.arange(len(hospitals))])+\\\n",
    "    \"&sources=\"+\\\n",
    "    ';'.join([str(x) for x in np.arange(len(hospitals),len(hospitals)+len(origins_batch))])\n",
    "\n",
    "    fullurl= server+hospitals_loc+\";\"+destinations+trail\n",
    "\n",
    "    #print(fullurl)\n",
    "    response = requests.get(fullurl)\n",
    "    response.raise_for_status()\n",
    "    durastions_matrix=json.loads(response.text)['durations']\n",
    "    durastions=[]\n",
    "    hospital_min=[]\n",
    "    for origen in np.arange(np.shape(durastions_matrix)[0]):\n",
    "        durastions+=[min(durastions_matrix[origen])]\n",
    "        hospital_min+=[np.argmin(durastions_matrix[origen])]\n",
    "    for i in np.arange(len(durastions)):\n",
    "        origins.loc[[destinations_number[i]], ['t_'+usual_origin]]=buffer+durastions[i]/60./60.*overalpenalty\n",
    "        origins.loc[[destinations_number[i]], ['m_'+usual_origin]]=hospital_min[i]\n"
   ],
   "metadata": {
    "collapsed": false,
    "pycharm": {
     "name": "#%%\n"
    }
   }
  },
  {
   "cell_type": "code",
   "execution_count": 111,
   "metadata": {},
   "outputs": [
    {
     "data": {
      "text/plain": "<Figure size 432x288 with 1 Axes>",
      "image/png": "[encoded data removed]"
     },
     "metadata": {
      "needs_background": "light"
     },
     "output_type": "display_data"
    }
   ],
   "source": [
    "%matplotlib inline\n",
    "import matplotlib.pyplot as plt\n",
    "plt.figure()\n",
    "origins['t_'+usual_origin].plot.hist(alpha=0.5,bins=500,cumulative=False,density=True)\n",
    "plt.ylabel('% of total population')\n",
    "plt.xlabel('Distance to nearest '+usual_origin+' [h]')\n",
    "plt.savefig('travel_time_dist.pdf')\n",
    "plt.show()"
   ]
  },
  {
   "cell_type": "code",
   "execution_count": null,
   "outputs": [],
   "source": [
    "origins.to_file(\"data/origins.geojson\", driver=\"GeoJSON\")\n",
    "\n",
    "origins.to_file(\"data/origins.shp\", driver=\"ESRI Shapefile\")"
   ],
   "metadata": {
    "collapsed": false,
    "pycharm": {
     "name": "#%%\n"
    }
   }
  },
  {
   "cell_type": "code",
   "execution_count": 110,
   "outputs": [
    {
     "data": {
      "text/plain": "<Figure size 432x288 with 1 Axes>",
      "image/png": "[encoded data removed]"
     },
     "metadata": {
      "needs_background": "light"
     },
     "output_type": "display_data"
    }
   ],
   "source": [
    "plt.figure()\n",
    "origins['t_'+usual_origin].plot.hist(alpha=0.5,bins=500,cumulative=True,density=True,weights=origins['tot_pop'])\n",
    "plt.ylabel('% of population')\n",
    "plt.xlabel('Distance to nearest '+usual_origin+' [hours]')\n",
    "plt.show()"
   ],
   "metadata": {
    "collapsed": false,
    "pycharm": {
     "name": "#%%\n"
    }
   }
  },
  {
   "cell_type": "code",
   "execution_count": 108,
   "outputs": [
    {
     "ename": "NameError",
     "evalue": "name 'weight_array' is not defined",
     "output_type": "error",
     "traceback": [
      "\u001B[0;31m---------------------------------------------------------------------------\u001B[0m",
      "\u001B[0;31mNameError\u001B[0m                                 Traceback (most recent call last)",
      "\u001B[0;32m<ipython-input-108-e463367101cd>\u001B[0m in \u001B[0;36m<module>\u001B[0;34m\u001B[0m\n\u001B[1;32m      1\u001B[0m \u001B[0;32mfor\u001B[0m \u001B[0mi\u001B[0m \u001B[0;32min\u001B[0m \u001B[0mnp\u001B[0m\u001B[0;34m.\u001B[0m\u001B[0marange\u001B[0m\u001B[0;34m(\u001B[0m\u001B[0;36m10\u001B[0m\u001B[0;34m,\u001B[0m\u001B[0;36m101\u001B[0m\u001B[0;34m,\u001B[0m\u001B[0;36m10\u001B[0m\u001B[0;34m)\u001B[0m\u001B[0;34m:\u001B[0m\u001B[0;34m\u001B[0m\u001B[0;34m\u001B[0m\u001B[0m\n\u001B[1;32m      2\u001B[0m     print(\"El %i%% de la población en Asturias tarda %2.1f minutos en llegar al destino: %s\"%\n\u001B[0;32m----> 3\u001B[0;31m          (i,np.percentile(weight_array(origins['t_'+usual_origin].values*60, origins['tot_pop'].values), i),usual_origin))\n\u001B[0m\u001B[1;32m      4\u001B[0m \u001B[0;34m\u001B[0m\u001B[0m\n",
      "\u001B[0;31mNameError\u001B[0m: name 'weight_array' is not defined"
     ]
    }
   ],
   "source": [
    "for i in np.arange(10,101,10):\n",
    "    print(\"El %i%% de la población en Asturias tarda %2.1f minutos en llegar al destino: %s\"%\n",
    "         (i,np.percentile(weight_array(origins['t_'+usual_origin].values*60, origins['tot_pop'].values), i),usual_origin))"
   ],
   "metadata": {
    "collapsed": false,
    "pycharm": {
     "name": "#%%\n"
    }
   }
  },
  {
   "cell_type": "code",
   "execution_count": null,
   "outputs": [],
   "source": [
    "lejos=origins[origins['t_'+usual_origin]>1].sort_values(by='t_'+usual_origin,ascending=False)\n",
    "\n",
    "for index,lugar in lejos.head(n=5).iterrows():\n",
    "    print(\"%i personas en %s tardan %2.1f horas en llegar al destino: %s\"%\n",
    "         (lugar[\"POBLACION\"],lugar[\"NOMBRE\"],lugar[\"t_\"+usual_origin],usual_origin))\n",
    "    get_route_link([hospitales.loc[lugar['m_hospital']]['lon'],hospitales.loc[lugar['m_hospital']]['lat']],\n",
    "                   [lugar['lon'],lugar['lat']])\n",
    "\n",
    "\n",
    "origins.to_file(\"data/origins.geojson\", driver=\"GeoJSON\")"
   ],
   "metadata": {
    "collapsed": false,
    "pycharm": {
     "name": "#%%\n"
    }
   }
  }
 ],
 "metadata": {
  "kernelspec": {
   "display_name": "PyCharm (covid19)",
   "language": "python",
   "name": "pycharm-83803e52"
  },
  "language_info": {
   "codemirror_mode": {
    "name": "ipython",
    "version": 3
   },
   "file_extension": ".py",
   "mimetype": "text/x-python",
   "name": "python",
   "nbconvert_exporter": "python",
   "pygments_lexer": "ipython3",
   "version": "3.8.2"
  }
 },
 "nbformat": 4,
 "nbformat_minor": 2
}