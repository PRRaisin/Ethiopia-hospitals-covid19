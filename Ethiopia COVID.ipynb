{
 "cells": [
  {
   "cell_type": "markdown",
   "metadata": {},
   "source": [
    "# COVID Hospital mapping for Ethiopia"
   ]
  },
  {
   "cell_type": "code",
   "execution_count": 1,
   "outputs": [],
   "source": [
    "# general tools\n",
    "from preprocessing import get_population_data, split, n_closest_geodetic\n",
    "import numpy as np\n",
    "import rasterio\n",
    "import logging\n",
    "import pandas as pd\n",
    "from rasterio.windows import Window\n",
    "import matplotlib.pyplot as plt\n",
    "import geopandas as gpd\n",
    "from shapely.geometry import Point\n",
    "from shapely.geometry import box\n",
    "import requests #http framework to make mhvpl requests for routes\n",
    "import json # handle response as json\n",
    "import pickle\n",
    "log = logging.getLogger(__name__)"
   ],
   "metadata": {
    "collapsed": false,
    "pycharm": {
     "name": "#%%\n"
    }
   }
  },
  {
   "cell_type": "markdown",
   "source": [
    "## Prepare population data"
   ],
   "metadata": {
    "collapsed": false,
    "pycharm": {
     "name": "#%% md\n"
    }
   }
  },
  {
   "cell_type": "code",
   "execution_count": 2,
   "outputs": [],
   "source": [
    "CRS ='epsg:4326'\n",
    "LOCATION = 'ethiopia_AOI-1'\n",
    "DATAPATH = 'data/' + LOCATION\n",
    "RAWFILEPATH  = DATAPATH +  '/raw'\n",
    "PROCESSEDFILEPATH = DATAPATH + '/processed'\n",
    "RESULTSFILEPATH = DATAPATH + '/results'\n",
    "\n",
    "# Facebooks HRSL dataset\n",
    "map_file = RAWFILEPATH+\"/AOI-1_population_eth_2018-10-01.tif\"\n"
   ],
   "metadata": {
    "collapsed": false,
    "pycharm": {
     "name": "#%%\n"
    }
   }
  },
  {
   "cell_type": "code",
   "execution_count": 3,
   "metadata": {},
   "outputs": [
    {
     "name": "stdout",
     "output_type": "stream",
     "text": [
      "2000/2834\r"
     ]
    }
   ],
   "source": [
    "#Initial scan the raster map with big windows\n",
    "origins=pd.DataFrame()\n",
    "window=2000\n",
    "\n",
    "with rasterio.open(map_file) as src:\n",
    "    a=src.xy(0,1)\n",
    "    for left_x in np.arange(0,src.width,window):\n",
    "        for top_y in np.arange(0,src.height,window):\n",
    "            out=get_population_data(map_file,left_x,top_y,window,plot=False)\n",
    "            if out != {}:\n",
    "                origins=origins.append([out])\n",
    "        print(\"%i/%i\\r\"%(left_x,src.width),end=\"\")"
   ]
  },
  {
   "cell_type": "code",
   "execution_count": 7,
   "outputs": [
    {
     "name": "stdout",
     "output_type": "stream",
     "text": [
      "84 regions need splitting\n",
      "We now have 438 regions, 321 will be split in next round\n"
     ]
    }
   ],
   "source": [
    "#Perform a splitting pass\n",
    "#Run this cell as many times as you want to split the windows\n",
    "print(\"%i regions need splitting\"%len(origins[origins['split']==True]))\n",
    "olen=len(origins)\n",
    "for i in np.arange(olen):\n",
    "    print(\"%i/%i\\r\"%(i+1,olen),end=\"\")\n",
    "    if origins.iloc[i,origins.columns.get_loc('split')] == True:\n",
    "        origins.iloc[i,origins.columns.get_loc('split')]='done'\n",
    "        s=split(map_file,origins.iloc[i])\n",
    "        origins=origins.append(s,sort=False)\n",
    "print(\"We now have %i regions, %i will be split in next round\"%(len(origins),len(origins[origins['split']==True])))"
   ],
   "metadata": {
    "collapsed": false,
    "pycharm": {
     "name": "#%%\n"
    }
   }
  },
  {
   "cell_type": "code",
   "execution_count": 8,
   "metadata": {},
   "outputs": [
    {
     "name": "stdout",
     "output_type": "stream",
     "text": [
      "We have 321 regions of size 125, 321 with population >0\n"
     ]
    }
   ],
   "source": [
    "# Keep the regions with population>1\n",
    "# and filter out the regions which have been split\n",
    "origins=origins[origins['tot_pop']>0]\n",
    "origins=origins[origins['split']!='done']\n",
    "print(\"We have %i regions of size %i, %i with population >0\"%\n",
    "      (len(origins),min(origins['window']),len(origins[origins['tot_pop']>0])))"
   ]
  },
  {
   "cell_type": "code",
   "execution_count": 9,
   "metadata": {},
   "outputs": [],
   "source": [
    "#transform into GeoDataFrame\n",
    "origins=gpd.GeoDataFrame(origins,crs=CRS, geometry=[Point(xy) for xy in zip(origins['center_lon'], origins['center_lat'])])\n",
    "origins.geometry=origins.apply(lambda r: box(r.left_lon, r.bottom_lat, r.right_lon, r.top_lat, ccw=False),axis=1)\n",
    "origins = origins.reset_index(drop=True)"
   ]
  },
  {
   "cell_type": "code",
   "execution_count": 10,
   "outputs": [
    {
     "data": {
      "text/plain": "<matplotlib.axes._subplots.AxesSubplot at 0x123f54670>"
     },
     "execution_count": 10,
     "metadata": {},
     "output_type": "execute_result"
    },
    {
     "data": {
      "text/plain": "<Figure size 432x288 with 1 Axes>",
      "image/png": "[encoded data removed]"
     },
     "metadata": {
      "needs_background": "light"
     },
     "output_type": "display_data"
    }
   ],
   "source": [
    "origins.plot()"
   ],
   "metadata": {
    "collapsed": false,
    "pycharm": {
     "name": "#%%\n"
    }
   }
  },
  {
   "cell_type": "code",
   "execution_count": 50,
   "metadata": {},
   "outputs": [],
   "source": [
    "# save shapefile\n",
    "origins.to_file(driver = 'GeoJSON', filename= PROCESSEDFILEPATH+'/origins_'+str(len(origins))+'.geojson')\n",
    "origins.to_file(driver = 'ESRI Shapefile', filename = PROCESSEDFILEPATH+'/origins_'+str(len(origins))+'.shp')"
   ]
  },
  {
   "cell_type": "markdown",
   "source": [
    "## Import hospital locations"
   ],
   "metadata": {
    "collapsed": false
   }
  },
  {
   "cell_type": "code",
   "execution_count": 11,
   "outputs": [
    {
     "name": "stdout",
     "output_type": "stream",
     "text": [
      "There are 10 hospitals\n"
     ]
    }
   ],
   "source": [
    "hospital_path = RAWFILEPATH+\"/AOI-1_hospitals.shp\"\n",
    "df = gpd.read_file(hospital_path).to_crs(CRS)\n",
    "df['lon']=df.geometry.centroid.x\n",
    "df['lat']=df.geometry.centroid.y\n",
    "df['name']=df['Facility n']\n",
    "hospitals=df[['name','lon','lat','geometry']]\n",
    "print(\"There are %i hospitals\"%len(hospitals))\n",
    "hospitals = hospitals.reset_index(drop=True)\n"
   ],
   "metadata": {
    "collapsed": false,
    "pycharm": {
     "name": "#%%\n"
    }
   }
  },
  {
   "cell_type": "code",
   "execution_count": 14,
   "outputs": [],
   "source": [
    "# Save or load data for later usage\n",
    "# SAVE\n",
    "with open(PROCESSEDFILEPATH+'/'+LOCATION+'_'+str(len(origins))+'-h-o.pickle', 'wb') as handle:\n",
    "    pickle.dump([hospitals,origins], handle, protocol=pickle.HIGHEST_PROTOCOL)"
   ],
   "metadata": {
    "collapsed": false,
    "pycharm": {
     "name": "#%%\n"
    }
   }
  },
  {
   "cell_type": "code",
   "execution_count": 22,
   "outputs": [],
   "source": [
    "# LOAD\n",
    "with open(PROCESSEDFILEPATH+'/'+LOCATION+'_1278-h-o.pickle', 'rb') as handle:\n",
    "    hospitals,origins = pickle.load(handle)"
   ],
   "metadata": {
    "collapsed": false,
    "pycharm": {
     "name": "#%%\n"
    }
   }
  },
  {
   "cell_type": "code",
   "execution_count": 12,
   "outputs": [],
   "source": [
    "# prepare hospital locations to be fed into the OSRM engine as strings\n",
    "hospitals_loc=\";\".join([str(i[1])+','+str(i[0]) for i in hospitals[['lat','lon']].values])\n"
   ],
   "metadata": {
    "collapsed": false,
    "pycharm": {
     "name": "#%%\n"
    }
   }
  },
  {
   "cell_type": "markdown",
   "source": [
    "## Calculate travel times from each region to the nearest hospital# osrm server address"
   ],
   "metadata": {
    "collapsed": false
   }
  },
  {
   "cell_type": "code",
   "execution_count": 13,
   "outputs": [
    {
     "name": "stdout",
     "output_type": "stream",
     "text": [
      "Doing batch 3, [300,400] of 321\r"
     ]
    }
   ],
   "source": [
    "# osrm server address\n",
    "osrm_server=\"http://0.0.0.0:5000\"\n",
    "server=osrm_server+\"/table/v1/driving/\"\n",
    "comma=\"%2C\"\n",
    "Sep=\"%3B\"\n",
    "\n",
    "batch=100\n",
    "usual_origin='hospital'\n",
    "\n",
    "buffer=10/60.  #10 minutes, in hours\n",
    "overalpenalty=1.05  #5%\n",
    "\n",
    "# create a new column in the Geodataframe for the time and initilize with -1\n",
    "origins['t_'+usual_origin]=-1\n",
    "origins['m_'+usual_origin]=-1\n",
    "\n",
    "for i in np.arange(origins.shape[0]/batch):\n",
    "    print(\"Doing batch %i, [%i,%i] of %i\"\n",
    "          %(i,batch*i,batch*(i+1),origins.shape[0]),end=\"\\r\")\n",
    "    origins_batch=origins.iloc[int(batch*i):].head(n=batch)\n",
    "\n",
    "    destinations=\";\".join([str(i[1])+','+str(i[0]) for i in origins_batch[['center_lat','center_lon']].values])\n",
    "    destinations_number=origins_batch.index\n",
    "\n",
    "    trail=\".json?destinations=\"+\\\n",
    "    ';'.join([str(x) for x in np.arange(len(hospitals))])+\\\n",
    "    \"&sources=\"+\\\n",
    "    ';'.join([str(x) for x in np.arange(len(hospitals),len(hospitals)+len(origins_batch))])\n",
    "\n",
    "    fullurl= server+hospitals_loc+\";\"+destinations+trail\n",
    "    counter= 0\n",
    "    response = requests.get(fullurl)\n",
    "    try:\n",
    "        response.raise_for_status()\n",
    "        durations_matrix=json.loads(response.text)['durations']\n",
    "\n",
    "        durations=[]\n",
    "        hospital_min=[]\n",
    "        for origin in np.arange(np.shape(durations_matrix)[0]):\n",
    "            durations+=[min(durations_matrix[origin])]\n",
    "            hospital_min+=[np.argmin(durations_matrix[origin])]\n",
    "        for j in np.arange(len(durations)):\n",
    "            origins.loc[[destinations_number[j]], ['t_'+usual_origin]]=buffer+durations[j]/60./60.*overalpenalty\n",
    "            origins.loc[[destinations_number[j]], ['m_'+usual_origin]]=hospital_min[j]\n",
    "\n",
    "    except:\n",
    "        counter = counter+1\n",
    "        continue"
   ],
   "metadata": {
    "collapsed": false,
    "pycharm": {
     "name": "#%%\n"
    }
   }
  },
  {
   "cell_type": "code",
   "execution_count": 95,
   "outputs": [
    {
     "name": "stdout",
     "output_type": "stream",
     "text": [
      "Int64Index([0], dtype='int64')\n",
      "0\n",
      "2661.1\n",
      "321\n",
      "Int64Index([0], dtype='int64')\n",
      "0\n",
      "1968.7\n",
      "321\n",
      "Int64Index([0], dtype='int64')\n",
      "0\n",
      "1755.6\n",
      "321\n",
      "Int64Index([0], dtype='int64')\n",
      "0\n",
      "1512.5\n",
      "321\n",
      "Int64Index([0], dtype='int64')\n",
      "0\n",
      "1380.1\n",
      "321\n",
      "Int64Index([0], dtype='int64')\n",
      "0\n",
      "1037.5\n",
      "321\n",
      "Int64Index([0], dtype='int64')\n",
      "0\n",
      "1315.4\n",
      "321\n",
      "Int64Index([0], dtype='int64')\n",
      "0\n",
      "1380.8\n",
      "321\n",
      "Int64Index([0], dtype='int64')\n",
      "0\n",
      "2631.2\n",
      "321\n",
      "Int64Index([0], dtype='int64')\n",
      "0\n",
      "2084.5\n",
      "321\n",
      "Int64Index([0], dtype='int64')\n",
      "0\n",
      "2484.2\n",
      "321\n",
      "Int64Index([0], dtype='int64')\n",
      "0\n",
      "2454.9\n",
      "321\n",
      "Int64Index([0], dtype='int64')\n",
      "0\n",
      "1600.4\n",
      "321\n",
      "Int64Index([0], dtype='int64')\n",
      "0\n",
      "970.1\n",
      "321\n",
      "Int64Index([0], dtype='int64')\n",
      "0\n",
      "1470\n",
      "321\n",
      "Int64Index([0], dtype='int64')\n",
      "0\n",
      "1015.9\n",
      "321\n",
      "Int64Index([0], dtype='int64')\n",
      "0\n",
      "1416.9\n",
      "321\n",
      "Int64Index([0], dtype='int64')\n",
      "0\n",
      "1614\n",
      "321\n",
      "Int64Index([0], dtype='int64')\n",
      "0\n",
      "686.1\n",
      "321\n",
      "Int64Index([0], dtype='int64')\n",
      "0\n",
      "1067\n",
      "321\n",
      "Int64Index([0], dtype='int64')\n",
      "0\n",
      "1694\n",
      "321\n",
      "Int64Index([0], dtype='int64')\n",
      "0\n",
      "1848.2\n",
      "321\n",
      "Int64Index([0], dtype='int64')\n",
      "0\n",
      "1205.2\n",
      "321\n",
      "Int64Index([0], dtype='int64')\n",
      "0\n",
      "1491.1\n",
      "321\n",
      "Int64Index([0], dtype='int64')\n",
      "0\n",
      "594.5\n",
      "321\n",
      "Int64Index([0], dtype='int64')\n",
      "0\n",
      "693.7\n",
      "321\n",
      "Int64Index([0], dtype='int64')\n",
      "0\n",
      "397.5\n",
      "321\n",
      "Int64Index([0], dtype='int64')\n",
      "0\n",
      "335.6\n",
      "321\n",
      "Int64Index([0], dtype='int64')\n",
      "0\n",
      "1077.2\n",
      "321\n",
      "Int64Index([0], dtype='int64')\n",
      "0\n",
      "517.9\n",
      "321\n",
      "Int64Index([0], dtype='int64')\n",
      "0\n",
      "970.2\n",
      "321\n",
      "Int64Index([0], dtype='int64')\n",
      "0\n",
      "1349.3\n",
      "321\n",
      "Int64Index([0], dtype='int64')\n",
      "0\n",
      "2702.8\n",
      "321\n",
      "Int64Index([0], dtype='int64')\n",
      "0\n",
      "1904\n",
      "321\n",
      "Int64Index([0], dtype='int64')\n",
      "0\n",
      "2162.9\n",
      "321\n",
      "Int64Index([0], dtype='int64')\n",
      "0\n",
      "1944.4\n",
      "321\n",
      "Int64Index([0], dtype='int64')\n",
      "0\n",
      "1275.8\n",
      "321\n",
      "Int64Index([0], dtype='int64')\n",
      "0\n",
      "607\n",
      "321\n",
      "Int64Index([0], dtype='int64')\n",
      "0\n",
      "1650.5\n",
      "321\n",
      "Int64Index([0], dtype='int64')\n",
      "0\n",
      "1001.5\n",
      "321\n",
      "Int64Index([0], dtype='int64')\n",
      "0\n",
      "1836.7\n",
      "321\n",
      "Int64Index([0], dtype='int64')\n",
      "0\n",
      "2312.7\n",
      "321\n",
      "Int64Index([0], dtype='int64')\n",
      "0\n",
      "1026\n",
      "321\n",
      "Int64Index([0], dtype='int64')\n",
      "0\n",
      "704.1\n",
      "321\n",
      "Int64Index([0], dtype='int64')\n",
      "0\n",
      "1554.4\n",
      "321\n",
      "Int64Index([0], dtype='int64')\n",
      "0\n",
      "170.2\n",
      "321\n",
      "Int64Index([0], dtype='int64')\n",
      "0\n",
      "307.3\n",
      "321\n",
      "Int64Index([0], dtype='int64')\n",
      "0\n",
      "1318.3\n",
      "321\n",
      "Int64Index([0], dtype='int64')\n",
      "0\n",
      "259.6\n",
      "321\n",
      "Int64Index([0], dtype='int64')\n",
      "0\n",
      "372.1\n",
      "321\n",
      "Int64Index([0], dtype='int64')\n",
      "0\n",
      "82.9\n",
      "321\n",
      "Int64Index([0], dtype='int64')\n",
      "0\n",
      "778.5\n",
      "321\n",
      "Int64Index([0], dtype='int64')\n",
      "0\n",
      "430.9\n",
      "321\n",
      "Int64Index([0], dtype='int64')\n",
      "0\n",
      "1193.5\n",
      "321\n",
      "Int64Index([0], dtype='int64')\n",
      "0\n",
      "1055.6\n",
      "321\n",
      "Int64Index([0], dtype='int64')\n",
      "0\n",
      "813.9\n",
      "321\n",
      "Int64Index([0], dtype='int64')\n",
      "0\n",
      "631.9\n",
      "321\n",
      "Int64Index([0], dtype='int64')\n",
      "0\n",
      "1106.5\n",
      "321\n",
      "Int64Index([0], dtype='int64')\n",
      "0\n",
      "1812.7\n",
      "321\n",
      "Int64Index([0], dtype='int64')\n",
      "0\n",
      "1551.2\n",
      "321\n",
      "Int64Index([0], dtype='int64')\n",
      "0\n",
      "2001.9\n",
      "321\n",
      "Int64Index([0], dtype='int64')\n",
      "0\n",
      "1839.9\n",
      "321\n",
      "Int64Index([0], dtype='int64')\n",
      "0\n",
      "1243.1\n",
      "321\n",
      "Int64Index([0], dtype='int64')\n",
      "0\n",
      "1757.7\n",
      "321\n",
      "Int64Index([0], dtype='int64')\n",
      "0\n",
      "1567\n",
      "321\n",
      "Int64Index([0], dtype='int64')\n",
      "0\n",
      "1743.8\n",
      "321\n",
      "Int64Index([0], dtype='int64')\n",
      "0\n",
      "1080.8\n",
      "321\n",
      "Int64Index([0], dtype='int64')\n",
      "0\n",
      "1358.5\n",
      "321\n",
      "Int64Index([0], dtype='int64')\n",
      "0\n",
      "28.9\n",
      "321\n",
      "Int64Index([0], dtype='int64')\n",
      "0\n",
      "351\n",
      "321\n",
      "Int64Index([0], dtype='int64')\n",
      "0\n",
      "1446.9\n",
      "321\n",
      "Int64Index([0], dtype='int64')\n",
      "0\n",
      "3313.9\n",
      "321\n",
      "Int64Index([0], dtype='int64')\n",
      "0\n",
      "0\n",
      "321\n",
      "Int64Index([0], dtype='int64')\n",
      "0\n",
      "0\n",
      "321\n",
      "Int64Index([0], dtype='int64')\n",
      "0\n",
      "769.6\n",
      "321\n",
      "Int64Index([0], dtype='int64')\n",
      "0\n",
      "3871.6\n",
      "321\n",
      "Int64Index([0], dtype='int64')\n",
      "0\n",
      "3791.9\n",
      "321\n",
      "Int64Index([0], dtype='int64')\n",
      "0\n",
      "3264.5\n",
      "321\n",
      "Int64Index([0], dtype='int64')\n",
      "0\n",
      "3819.8\n",
      "321\n",
      "Int64Index([0], dtype='int64')\n",
      "0\n",
      "3005.2\n",
      "321\n",
      "Int64Index([0], dtype='int64')\n",
      "0\n",
      "635.1\n",
      "321\n",
      "Int64Index([0], dtype='int64')\n",
      "0\n",
      "1640.4\n",
      "321\n",
      "Int64Index([0], dtype='int64')\n",
      "0\n",
      "1004.5\n",
      "321\n",
      "Int64Index([0], dtype='int64')\n",
      "0\n",
      "1570\n",
      "321\n",
      "Int64Index([0], dtype='int64')\n",
      "0\n",
      "3313.9\n",
      "321\n",
      "Int64Index([0], dtype='int64')\n",
      "0\n",
      "2034.2\n",
      "321\n",
      "Int64Index([0], dtype='int64')\n",
      "0\n",
      "2882.5\n",
      "321\n",
      "Int64Index([0], dtype='int64')\n",
      "0\n",
      "2387.4\n",
      "321\n",
      "Int64Index([0], dtype='int64')\n",
      "0\n",
      "1809.3\n",
      "321\n",
      "Int64Index([0], dtype='int64')\n",
      "0\n",
      "1796.1\n",
      "321\n",
      "Int64Index([0], dtype='int64')\n",
      "0\n",
      "1005.7\n",
      "321\n"
     ]
    }
   ],
   "source": [
    "osrm_server=\"http://0.0.0.0:5000\"\n",
    "server=osrm_server+\"/table/v1/driving/\"\n",
    "\n",
    "batch=10\n",
    "POI='hospital'\n",
    "\n",
    "buffer=10/60.  #10 minutes, in hours\n",
    "overalpenalty=1.05  #5%\n",
    "\n",
    "# create a new column in the Geodataframe for the time and distance\n",
    "origins['t_'+POI]=-1\n",
    "origins['m_'+POI]=-1\n",
    "\n",
    "for i in np.arange(origins.shape[0]/batch):\n",
    "    print(\"Doing batch %i, [%i,%i] of %i\"\n",
    "          %(i,batch*i,batch*(i+1),origins.shape[0]),end=\"\\r\")\n",
    "    origins_batch=origins.iloc[int(batch*i):].head(n=batch)\n",
    "\n",
    "\n",
    "    destinations=\";\".join([str(i[1])+','+str(i[0]) for i in origins_batch[['center_lat','center_lon']].values])\n",
    "    destinations_number=origins_batch.index\n",
    "\n",
    "    trail=\".json?destinations=\"+\\\n",
    "    ';'.join([str(x) for x in np.arange(len(hospitals))])+\\\n",
    "    \"&sources=\"+\\\n",
    "    ';'.join([str(x) for x in np.arange(len(hospitals),len(hospitals)+len(origins_batch))])\n",
    "\n",
    "    fullurl= server+hospitals_loc+\";\"+destinations+trail\n",
    "    response = requests.get(fullurl)\n",
    "\n",
    "    response.raise_for_status()\n",
    "    durations_matrix=json.loads(response.text)['durations']\n",
    "    durations=[]\n",
    "    hospital_min=[]\n",
    "\n",
    "    for origin in np.arange(np.shape(durations_matrix)[0]):\n",
    "            durations+=[min(durations_matrix[origin])]\n",
    "            hospital_min+=[np.argmin(durations_matrix[origin])]\n",
    "    print(destinations_number)\n",
    "    for j in np.arange(len(durations)):\n",
    "            print(destinations_number[j])\n",
    "            print(durations[j])\n",
    "            origins.loc[[destinations_number[j]], ['t_'+POI]]=buffer+durations[j]/60./60.*overalpenalty\n",
    "            origins.loc[[destinations_number[j]], ['m_'+POI]]=hospital_min[j]\n",
    "\n",
    "    print(len(origins.loc[[0],['t_'+POI]]))\n",
    "    #except:\n",
    "    #    logging.warning('Batch '+str(i)+' processing failed. Check if OSRM data covers area.')\n",
    "    #    continue\n",
    "    if i==90:\n",
    "        break"
   ],
   "metadata": {
    "collapsed": false,
    "pycharm": {
     "name": "#%%\n"
    }
   }
  },
  {
   "cell_type": "code",
   "execution_count": 27,
   "outputs": [],
   "source": [
    "# TODO: It saves it along the whole column!! All values are being overwritten with one value. Re-check the code!\n",
    "# save files\n",
    "origins.to_file(RESULTSFILEPATH+'/origins_'+str(len(origins))+'_results.geojson', driver='GeoJSON')\n",
    "origins.to_file(RESULTSFILEPATH+'/origins_'+str(len(origins))+'_results.shp', driver='ESRI Shapefile')\n",
    "with open(RESULTSFILEPATH+'/'+LOCATION+'_'+str(len(origins))+'-results.pickle', 'wb') as handle:\n",
    "    pickle.dump([hospitals,origins], handle, protocol=pickle.HIGHEST_PROTOCOL)"
   ],
   "metadata": {
    "collapsed": false,
    "pycharm": {
     "name": "#%%\n"
    }
   }
  },
  {
   "cell_type": "code",
   "execution_count": 14,
   "metadata": {},
   "outputs": [
    {
     "data": {
      "text/plain": "<Figure size 432x288 with 1 Axes>",
      "image/png": "[encoded data removed]"
     },
     "metadata": {
      "needs_background": "light"
     },
     "output_type": "display_data"
    }
   ],
   "source": [
    "# Plot\n",
    "%matplotlib inline\n",
    "plt.figure()\n",
    "origins['t_'+usual_origin].plot.hist(alpha=0.5,bins=500,cumulative=False,density=True)\n",
    "plt.ylabel('% of total population')\n",
    "plt.xlabel('Distance to nearest  [h]')\n",
    "plt.savefig('travel_time_dist.pdf')\n",
    "plt.show()"
   ]
  },
  {
   "cell_type": "code",
   "execution_count": 110,
   "outputs": [
    {
     "data": {
      "text/plain": "<Figure size 432x288 with 1 Axes>",
      "image/png": "[encoded data removed]"
     },
     "metadata": {
      "needs_background": "light"
     },
     "output_type": "display_data"
    }
   ],
   "source": [
    "plt.figure()\n",
    "origins['t_'+usual_origin].plot.hist(alpha=0.5,bins=500,cumulative=True,density=True,weights=origins['tot_pop'])\n",
    "plt.ylabel('% of population')\n",
    "plt.xlabel('Distance to nearest '+usual_origin+' [hours]')\n",
    "plt.show()"
   ],
   "metadata": {
    "collapsed": false,
    "pycharm": {
     "name": "#%%\n"
    }
   }
  },
  {
   "cell_type": "code",
   "execution_count": 108,
   "outputs": [
    {
     "ename": "NameError",
     "evalue": "name 'weight_array' is not defined",
     "output_type": "error",
     "traceback": [
      "\u001B[0;31m---------------------------------------------------------------------------\u001B[0m",
      "\u001B[0;31mNameError\u001B[0m                                 Traceback (most recent call last)",
      "\u001B[0;32m<ipython-input-108-e463367101cd>\u001B[0m in \u001B[0;36m<module>\u001B[0;34m\u001B[0m\n\u001B[1;32m      1\u001B[0m \u001B[0;32mfor\u001B[0m \u001B[0mi\u001B[0m \u001B[0;32min\u001B[0m \u001B[0mnp\u001B[0m\u001B[0;34m.\u001B[0m\u001B[0marange\u001B[0m\u001B[0;34m(\u001B[0m\u001B[0;36m10\u001B[0m\u001B[0;34m,\u001B[0m\u001B[0;36m101\u001B[0m\u001B[0;34m,\u001B[0m\u001B[0;36m10\u001B[0m\u001B[0;34m)\u001B[0m\u001B[0;34m:\u001B[0m\u001B[0;34m\u001B[0m\u001B[0;34m\u001B[0m\u001B[0m\n\u001B[1;32m      2\u001B[0m     print(\"El %i%% de la población en Asturias tarda %2.1f minutos en llegar al destino: %s\"%\n\u001B[0;32m----> 3\u001B[0;31m          (i,np.percentile(weight_array(origins['t_'+usual_origin].values*60, origins['tot_pop'].values), i),usual_origin))\n\u001B[0m\u001B[1;32m      4\u001B[0m \u001B[0;34m\u001B[0m\u001B[0m\n",
      "\u001B[0;31mNameError\u001B[0m: name 'weight_array' is not defined"
     ]
    }
   ],
   "source": [
    "for i in np.arange(10,101,10):\n",
    "    print(\"El %i%% de la población en Asturias tarda %2.1f minutos en llegar al destino: %s\"%\n",
    "         (i,np.percentile(weight_array(origins['t_'+usual_origin].values*60, origins['tot_pop'].values), i),usual_origin))"
   ],
   "metadata": {
    "collapsed": false,
    "pycharm": {
     "name": "#%%\n"
    }
   }
  },
  {
   "cell_type": "code",
   "execution_count": null,
   "outputs": [],
   "source": [
    "lejos=origins[origins['t_'+usual_origin]>1].sort_values(by='t_'+usual_origin,ascending=False)\n",
    "\n",
    "for index,lugar in lejos.head(n=5).iterrows():\n",
    "    print(\"%i personas en %s tardan %2.1f horas en llegar al destino: %s\"%\n",
    "         (lugar[\"POBLACION\"],lugar[\"NOMBRE\"],lugar[\"t_\"+usual_origin],usual_origin))\n",
    "    get_route_link([hospitales.loc[lugar['m_hospital']]['lon'],hospitales.loc[lugar['m_hospital']]['lat']],\n",
    "                   [lugar['lon'],lugar['lat']])\n",
    "\n",
    "\n",
    "origins.to_file(\"data/origins.geojson\", driver=\"GeoJSON\")"
   ],
   "metadata": {
    "collapsed": false,
    "pycharm": {
     "name": "#%%\n"
    }
   }
  }
 ],
 "metadata": {
  "kernelspec": {
   "display_name": "PyCharm (covid19)",
   "language": "python",
   "name": "pycharm-83803e52"
  },
  "language_info": {
   "codemirror_mode": {
    "name": "ipython",
    "version": 3
   },
   "file_extension": ".py",
   "mimetype": "text/x-python",
   "name": "python",
   "nbconvert_exporter": "python",
   "pygments_lexer": "ipython3",
   "version": "3.8.2"
  }
 },
 "nbformat": 4,
 "nbformat_minor": 2
}