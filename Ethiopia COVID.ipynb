{
 "cells": [
  {
   "cell_type": "markdown",
   "metadata": {},
   "source": [
    "# COVID Hospital mapping for Ethiopia"
   ]
  },
  {
   "cell_type": "code",
   "execution_count": 1,
   "outputs": [],
   "source": [
    "# general tools\n",
    "from preprocessing import get_population_data, split, n_closest_geodetic\n",
    "import numpy as np\n",
    "import rasterio\n",
    "import logging\n",
    "import pandas as pd\n",
    "from rasterio.windows import Window\n",
    "import matplotlib.pyplot as plt\n",
    "import geopandas as gpd\n",
    "from shapely.geometry import Point\n",
    "from shapely.geometry import box\n",
    "import requests #http framework to make mhvpl requests for routes\n",
    "import json # handle response as json\n",
    "import pickle\n",
    "log = logging.getLogger(__name__)"
   ],
   "metadata": {
    "collapsed": false,
    "pycharm": {
     "name": "#%%\n"
    }
   }
  },
  {
   "cell_type": "markdown",
   "source": [
    "## Prepare population data"
   ],
   "metadata": {
    "collapsed": false,
    "pycharm": {
     "name": "#%% md\n"
    }
   }
  },
  {
   "cell_type": "code",
   "execution_count": 2,
   "outputs": [],
   "source": [
    "CRS ='epsg:4326'\n",
    "LOCATION = 'ethiopia'\n",
    "DATAPATH = 'data/' + LOCATION\n",
    "RAWFILEPATH  = DATAPATH +  '/raw'\n",
    "PROCESSEDFILEPATH = DATAPATH + '/processed'\n",
    "RESULTSFILEPATH = DATAPATH + '/results'\n",
    "\n",
    "# Facebooks HRSL dataset\n",
    "map_file = RAWFILEPATH+\"/population_eth_2018-10-01.tif\"\n"
   ],
   "metadata": {
    "collapsed": false,
    "pycharm": {
     "name": "#%%\n"
    }
   }
  },
  {
   "cell_type": "code",
   "execution_count": 7,
   "metadata": {},
   "outputs": [
    {
     "name": "stdout",
     "output_type": "stream",
     "text": [
      "52000/53824\r"
     ]
    }
   ],
   "source": [
    "#Initial scan the raster map with big windows\n",
    "origins=pd.DataFrame()\n",
    "window=2000\n",
    "\n",
    "with rasterio.open(map_file) as src:\n",
    "    a=src.xy(0,1)\n",
    "    for left_x in np.arange(0,src.width,window):\n",
    "        for top_y in np.arange(0,src.height,window):\n",
    "            out=get_population_data(map_file,left_x,top_y,window,plot=False)\n",
    "            if out != {}:\n",
    "                origins=origins.append([out])\n",
    "        print(\"%i/%i\\r\"%(left_x,src.width),end=\"\")"
   ]
  },
  {
   "cell_type": "code",
   "execution_count": 8,
   "outputs": [
    {
     "name": "stdout",
     "output_type": "stream",
     "text": [
      "348 regions need splitting\n",
      "We now have 1959 regions, 1278 will be split in next round\n"
     ]
    }
   ],
   "source": [
    "#Perform a splitting pass\n",
    "#Run this cell as many times as you want to split the windows\n",
    "print(\"%i regions need splitting\"%len(origins[origins['split']==True]))\n",
    "olen=len(origins)\n",
    "for i in np.arange(olen):\n",
    "    print(\"%i/%i\\r\"%(i+1,olen),end=\"\")\n",
    "    if origins.iloc[i,origins.columns.get_loc('split')] == True:\n",
    "        origins.iloc[i,origins.columns.get_loc('split')]='done'\n",
    "        s=split(map_file,origins.iloc[i])\n",
    "        origins=origins.append(s,sort=False)\n",
    "print(\"We now have %i regions, %i will be split in next round\"%(len(origins),len(origins[origins['split']==True])))"
   ],
   "metadata": {
    "collapsed": false,
    "pycharm": {
     "name": "#%%\n"
    }
   }
  },
  {
   "cell_type": "code",
   "execution_count": 9,
   "metadata": {},
   "outputs": [
    {
     "name": "stdout",
     "output_type": "stream",
     "text": [
      "We have 1278 regions of size 1000, 1278 with population >0\n"
     ]
    }
   ],
   "source": [
    "# Keep the regions with population>1\n",
    "# and filter out the regions which have been split\n",
    "origins=origins[origins['tot_pop']>0]\n",
    "origins=origins[origins['split']!='done']\n",
    "print(\"We have %i regions of size %i, %i with population >0\"%\n",
    "      (len(origins),min(origins['window']),len(origins[origins['tot_pop']>0])))"
   ]
  },
  {
   "cell_type": "code",
   "execution_count": 10,
   "metadata": {},
   "outputs": [
    {
     "data": {
      "text/plain": "      window  left_x  right_x  top_y  bottom_y   left_lon   top_lat  \\\n0       1000       0     1000  23000     24000  32.998333  8.463889   \n1       1000    1000     2000  23000     24000  33.276111  8.463889   \n2       1000       0     1000  24000     25000  32.998333  8.186111   \n3       1000       0     1000  25000     26000  32.998333  7.908333   \n4       1000    1000     2000  24000     25000  33.276111  8.186111   \n...      ...     ...      ...    ...       ...        ...       ...   \n1273    1000   52000    53000  24000     25000  47.442778  8.186111   \n1274    1000   52000    53000  25000     26000  47.442778  7.908333   \n1275    1000   53000    54000  24000     25000  47.720556  8.186111   \n1276    1000   53000    54000  25000     26000  47.720556  7.908333   \n1277    1000   52000    53000  26000     27000  47.442778  7.630556   \n\n      right_lon  bottom_lat  center_lon  center_lat    count  nancount  \\\n0     33.276111    8.186111   33.137222    8.325000  1000000         5   \n1     33.553889    8.186111   33.415000    8.325000  1000000       868   \n2     33.276111    7.908333   33.137222    8.047222  1000000         7   \n3     33.276111    7.630556   33.137222    7.769444  1000000        71   \n4     33.553889    7.908333   33.415000    8.047222  1000000        36   \n...         ...         ...         ...         ...      ...       ...   \n1273  47.720556    7.908333   47.581667    8.047222  1000000        24   \n1274  47.720556    7.630556   47.581667    7.769444  1000000       254   \n1275  47.998333    7.908333   47.859444    8.047222   824000        32   \n1276  47.998333    7.630556   47.859444    7.769444   824000        33   \n1277  47.720556    7.352778   47.581667    7.491667  1000000        23   \n\n           tot_pop split                                           geometry  \n0       231.448715  True  POLYGON ((32.99833 8.18611, 32.99833 8.46389, ...  \n1     38351.499530  True  POLYGON ((33.27611 8.18611, 33.27611 8.46389, ...  \n2      3283.341795  True  POLYGON ((32.99833 7.90833, 32.99833 8.18611, ...  \n3     33302.466778  True  POLYGON ((32.99833 7.63056, 32.99833 7.90833, ...  \n4      3026.784975  True  POLYGON ((33.27611 7.90833, 33.27611 8.18611, ...  \n...            ...   ...                                                ...  \n1273    428.380967  True  POLYGON ((47.44278 7.90833, 47.44278 8.18611, ...  \n1274   4533.698567  True  POLYGON ((47.44278 7.63056, 47.44278 7.90833, ...  \n1275    571.174623  True  POLYGON ((47.72056 7.90833, 47.72056 8.18611, ...  \n1276    589.023830  True  POLYGON ((47.72056 7.63056, 47.72056 7.90833, ...  \n1277    410.531760  True  POLYGON ((47.44278 7.35278, 47.44278 7.63056, ...  \n\n[1278 rows x 16 columns]",
      "text/html": "<div>\n<style scoped>\n    .dataframe tbody tr th:only-of-type {\n        vertical-align: middle;\n    }\n\n    .dataframe tbody tr th {\n        vertical-align: top;\n    }\n\n    .dataframe thead th {\n        text-align: right;\n    }\n</style>\n<table border=\"1\" class=\"dataframe\">\n  <thead>\n    <tr style=\"text-align: right;\">\n      <th></th>\n      <th>window</th>\n      <th>left_x</th>\n      <th>right_x</th>\n      <th>top_y</th>\n      <th>bottom_y</th>\n      <th>left_lon</th>\n      <th>top_lat</th>\n      <th>right_lon</th>\n      <th>bottom_lat</th>\n      <th>center_lon</th>\n      <th>center_lat</th>\n      <th>count</th>\n      <th>nancount</th>\n      <th>tot_pop</th>\n      <th>split</th>\n      <th>geometry</th>\n    </tr>\n  </thead>\n  <tbody>\n    <tr>\n      <th>0</th>\n      <td>1000</td>\n      <td>0</td>\n      <td>1000</td>\n      <td>23000</td>\n      <td>24000</td>\n      <td>32.998333</td>\n      <td>8.463889</td>\n      <td>33.276111</td>\n      <td>8.186111</td>\n      <td>33.137222</td>\n      <td>8.325000</td>\n      <td>1000000</td>\n      <td>5</td>\n      <td>231.448715</td>\n      <td>True</td>\n      <td>POLYGON ((32.99833 8.18611, 32.99833 8.46389, ...</td>\n    </tr>\n    <tr>\n      <th>1</th>\n      <td>1000</td>\n      <td>1000</td>\n      <td>2000</td>\n      <td>23000</td>\n      <td>24000</td>\n      <td>33.276111</td>\n      <td>8.463889</td>\n      <td>33.553889</td>\n      <td>8.186111</td>\n      <td>33.415000</td>\n      <td>8.325000</td>\n      <td>1000000</td>\n      <td>868</td>\n      <td>38351.499530</td>\n      <td>True</td>\n      <td>POLYGON ((33.27611 8.18611, 33.27611 8.46389, ...</td>\n    </tr>\n    <tr>\n      <th>2</th>\n      <td>1000</td>\n      <td>0</td>\n      <td>1000</td>\n      <td>24000</td>\n      <td>25000</td>\n      <td>32.998333</td>\n      <td>8.186111</td>\n      <td>33.276111</td>\n      <td>7.908333</td>\n      <td>33.137222</td>\n      <td>8.047222</td>\n      <td>1000000</td>\n      <td>7</td>\n      <td>3283.341795</td>\n      <td>True</td>\n      <td>POLYGON ((32.99833 7.90833, 32.99833 8.18611, ...</td>\n    </tr>\n    <tr>\n      <th>3</th>\n      <td>1000</td>\n      <td>0</td>\n      <td>1000</td>\n      <td>25000</td>\n      <td>26000</td>\n      <td>32.998333</td>\n      <td>7.908333</td>\n      <td>33.276111</td>\n      <td>7.630556</td>\n      <td>33.137222</td>\n      <td>7.769444</td>\n      <td>1000000</td>\n      <td>71</td>\n      <td>33302.466778</td>\n      <td>True</td>\n      <td>POLYGON ((32.99833 7.63056, 32.99833 7.90833, ...</td>\n    </tr>\n    <tr>\n      <th>4</th>\n      <td>1000</td>\n      <td>1000</td>\n      <td>2000</td>\n      <td>24000</td>\n      <td>25000</td>\n      <td>33.276111</td>\n      <td>8.186111</td>\n      <td>33.553889</td>\n      <td>7.908333</td>\n      <td>33.415000</td>\n      <td>8.047222</td>\n      <td>1000000</td>\n      <td>36</td>\n      <td>3026.784975</td>\n      <td>True</td>\n      <td>POLYGON ((33.27611 7.90833, 33.27611 8.18611, ...</td>\n    </tr>\n    <tr>\n      <th>...</th>\n      <td>...</td>\n      <td>...</td>\n      <td>...</td>\n      <td>...</td>\n      <td>...</td>\n      <td>...</td>\n      <td>...</td>\n      <td>...</td>\n      <td>...</td>\n      <td>...</td>\n      <td>...</td>\n      <td>...</td>\n      <td>...</td>\n      <td>...</td>\n      <td>...</td>\n      <td>...</td>\n    </tr>\n    <tr>\n      <th>1273</th>\n      <td>1000</td>\n      <td>52000</td>\n      <td>53000</td>\n      <td>24000</td>\n      <td>25000</td>\n      <td>47.442778</td>\n      <td>8.186111</td>\n      <td>47.720556</td>\n      <td>7.908333</td>\n      <td>47.581667</td>\n      <td>8.047222</td>\n      <td>1000000</td>\n      <td>24</td>\n      <td>428.380967</td>\n      <td>True</td>\n      <td>POLYGON ((47.44278 7.90833, 47.44278 8.18611, ...</td>\n    </tr>\n    <tr>\n      <th>1274</th>\n      <td>1000</td>\n      <td>52000</td>\n      <td>53000</td>\n      <td>25000</td>\n      <td>26000</td>\n      <td>47.442778</td>\n      <td>7.908333</td>\n      <td>47.720556</td>\n      <td>7.630556</td>\n      <td>47.581667</td>\n      <td>7.769444</td>\n      <td>1000000</td>\n      <td>254</td>\n      <td>4533.698567</td>\n      <td>True</td>\n      <td>POLYGON ((47.44278 7.63056, 47.44278 7.90833, ...</td>\n    </tr>\n    <tr>\n      <th>1275</th>\n      <td>1000</td>\n      <td>53000</td>\n      <td>54000</td>\n      <td>24000</td>\n      <td>25000</td>\n      <td>47.720556</td>\n      <td>8.186111</td>\n      <td>47.998333</td>\n      <td>7.908333</td>\n      <td>47.859444</td>\n      <td>8.047222</td>\n      <td>824000</td>\n      <td>32</td>\n      <td>571.174623</td>\n      <td>True</td>\n      <td>POLYGON ((47.72056 7.90833, 47.72056 8.18611, ...</td>\n    </tr>\n    <tr>\n      <th>1276</th>\n      <td>1000</td>\n      <td>53000</td>\n      <td>54000</td>\n      <td>25000</td>\n      <td>26000</td>\n      <td>47.720556</td>\n      <td>7.908333</td>\n      <td>47.998333</td>\n      <td>7.630556</td>\n      <td>47.859444</td>\n      <td>7.769444</td>\n      <td>824000</td>\n      <td>33</td>\n      <td>589.023830</td>\n      <td>True</td>\n      <td>POLYGON ((47.72056 7.63056, 47.72056 7.90833, ...</td>\n    </tr>\n    <tr>\n      <th>1277</th>\n      <td>1000</td>\n      <td>52000</td>\n      <td>53000</td>\n      <td>26000</td>\n      <td>27000</td>\n      <td>47.442778</td>\n      <td>7.630556</td>\n      <td>47.720556</td>\n      <td>7.352778</td>\n      <td>47.581667</td>\n      <td>7.491667</td>\n      <td>1000000</td>\n      <td>23</td>\n      <td>410.531760</td>\n      <td>True</td>\n      <td>POLYGON ((47.44278 7.35278, 47.44278 7.63056, ...</td>\n    </tr>\n  </tbody>\n</table>\n<p>1278 rows × 16 columns</p>\n</div>"
     },
     "execution_count": 10,
     "metadata": {},
     "output_type": "execute_result"
    }
   ],
   "source": [
    "#transform into GeoDataFrame\n",
    "origins=gpd.GeoDataFrame(origins,crs='epsg:4326', geometry=[Point(xy) for xy in zip(origins['center_lon'], origins['center_lat'])])\n",
    "origins.geometry=origins.apply(lambda r: box(r.left_lon, r.bottom_lat, r.right_lon, r.top_lat, ccw=False),axis=1)\n",
    "origins.reset_index(drop=True)"
   ]
  },
  {
   "cell_type": "code",
   "execution_count": 11,
   "metadata": {},
   "outputs": [],
   "source": [
    "# save shapefile\n",
    "origins.to_file(driver = 'GeoJSON', filename= PROCESSEDFILEPATH+'/origins_'+str(len(origins))+'.geojson')\n",
    "origins.to_file(driver = 'ESRI Shapefile', filename = PROCESSEDFILEPATH+'/origins_'+str(len(origins))+'.shp')"
   ]
  },
  {
   "cell_type": "markdown",
   "source": [
    "## Import hospital locations"
   ],
   "metadata": {
    "collapsed": false
   }
  },
  {
   "cell_type": "code",
   "execution_count": 13,
   "outputs": [
    {
     "name": "stdout",
     "output_type": "stream",
     "text": [
      "There are 151 hospitals\n"
     ]
    },
    {
     "data": {
      "text/plain": "                        name      lon      lat                   geometry\n0    Addis Ketema Hospital 1  38.7258   9.0256   POINT (38.72580 9.02560)\n1    Addis Ketema Hospital 2  38.7228   9.0328   POINT (38.72280 9.03280)\n2    Addis Ketema Hospital 3  38.7257   9.0358   POINT (38.72570 9.03580)\n3    Addis Ketema Hospital 4  38.7355   9.0295   POINT (38.73550 9.02950)\n4      Akaki Kaliti Hospital  38.7676   8.9512   POINT (38.76760 8.95120)\n..                       ...      ...      ...                        ...\n146    Yetibo Mercy Hospital  38.2921   8.1202   POINT (38.29210 8.12020)\n147      Yirga Alem Hospital  38.4158   6.7247   POINT (38.41580 6.72470)\n148        Yirgalem Hospital  38.3896   6.7431   POINT (38.38960 6.74310)\n149    May Adirasha Hospital  38.3044  14.1141  POINT (38.30440 14.11410)\n150         Tsegede Hospital  36.8596  13.6436  POINT (36.85960 13.64360)\n\n[151 rows x 4 columns]",
      "text/html": "<div>\n<style scoped>\n    .dataframe tbody tr th:only-of-type {\n        vertical-align: middle;\n    }\n\n    .dataframe tbody tr th {\n        vertical-align: top;\n    }\n\n    .dataframe thead th {\n        text-align: right;\n    }\n</style>\n<table border=\"1\" class=\"dataframe\">\n  <thead>\n    <tr style=\"text-align: right;\">\n      <th></th>\n      <th>name</th>\n      <th>lon</th>\n      <th>lat</th>\n      <th>geometry</th>\n    </tr>\n  </thead>\n  <tbody>\n    <tr>\n      <th>0</th>\n      <td>Addis Ketema Hospital 1</td>\n      <td>38.7258</td>\n      <td>9.0256</td>\n      <td>POINT (38.72580 9.02560)</td>\n    </tr>\n    <tr>\n      <th>1</th>\n      <td>Addis Ketema Hospital 2</td>\n      <td>38.7228</td>\n      <td>9.0328</td>\n      <td>POINT (38.72280 9.03280)</td>\n    </tr>\n    <tr>\n      <th>2</th>\n      <td>Addis Ketema Hospital 3</td>\n      <td>38.7257</td>\n      <td>9.0358</td>\n      <td>POINT (38.72570 9.03580)</td>\n    </tr>\n    <tr>\n      <th>3</th>\n      <td>Addis Ketema Hospital 4</td>\n      <td>38.7355</td>\n      <td>9.0295</td>\n      <td>POINT (38.73550 9.02950)</td>\n    </tr>\n    <tr>\n      <th>4</th>\n      <td>Akaki Kaliti Hospital</td>\n      <td>38.7676</td>\n      <td>8.9512</td>\n      <td>POINT (38.76760 8.95120)</td>\n    </tr>\n    <tr>\n      <th>...</th>\n      <td>...</td>\n      <td>...</td>\n      <td>...</td>\n      <td>...</td>\n    </tr>\n    <tr>\n      <th>146</th>\n      <td>Yetibo Mercy Hospital</td>\n      <td>38.2921</td>\n      <td>8.1202</td>\n      <td>POINT (38.29210 8.12020)</td>\n    </tr>\n    <tr>\n      <th>147</th>\n      <td>Yirga Alem Hospital</td>\n      <td>38.4158</td>\n      <td>6.7247</td>\n      <td>POINT (38.41580 6.72470)</td>\n    </tr>\n    <tr>\n      <th>148</th>\n      <td>Yirgalem Hospital</td>\n      <td>38.3896</td>\n      <td>6.7431</td>\n      <td>POINT (38.38960 6.74310)</td>\n    </tr>\n    <tr>\n      <th>149</th>\n      <td>May Adirasha Hospital</td>\n      <td>38.3044</td>\n      <td>14.1141</td>\n      <td>POINT (38.30440 14.11410)</td>\n    </tr>\n    <tr>\n      <th>150</th>\n      <td>Tsegede Hospital</td>\n      <td>36.8596</td>\n      <td>13.6436</td>\n      <td>POINT (36.85960 13.64360)</td>\n    </tr>\n  </tbody>\n</table>\n<p>151 rows × 4 columns</p>\n</div>"
     },
     "execution_count": 13,
     "metadata": {},
     "output_type": "execute_result"
    }
   ],
   "source": [
    "hospital_path = RAWFILEPATH+\"/ethiopia_hospitals.shp\"\n",
    "df = gpd.read_file(hospital_path).to_crs(CRS)\n",
    "df['lon']=df.geometry.centroid.x\n",
    "df['lat']=df.geometry.centroid.y\n",
    "df['name']=df['Facility n']\n",
    "hospitals=df[['name','lon','lat','geometry']]\n",
    "print(\"There are %i hospitals\"%len(hospitals))\n",
    "hospitals.reset_index(drop=True)\n"
   ],
   "metadata": {
    "collapsed": false,
    "pycharm": {
     "name": "#%%\n"
    }
   }
  },
  {
   "cell_type": "code",
   "execution_count": 14,
   "outputs": [],
   "source": [
    "# Save or load data for later usage\n",
    "# SAVE\n",
    "with open(PROCESSEDFILEPATH+'/'+LOCATION+'_'+str(len(origins))+'-h-o.pickle', 'wb') as handle:\n",
    "    pickle.dump([hospitals,origins], handle, protocol=pickle.HIGHEST_PROTOCOL)"
   ],
   "metadata": {
    "collapsed": false,
    "pycharm": {
     "name": "#%%\n"
    }
   }
  },
  {
   "cell_type": "code",
   "execution_count": 3,
   "outputs": [],
   "source": [
    "# LOAD\n",
    "with open(PROCESSEDFILEPATH+'/'+LOCATION+'_1278-h-o.pickle', 'rb') as handle:\n",
    "    hospitals,origins = pickle.load(handle)"
   ],
   "metadata": {
    "collapsed": false,
    "pycharm": {
     "name": "#%%\n"
    }
   }
  },
  {
   "cell_type": "code",
   "execution_count": 4,
   "outputs": [],
   "source": [
    "# prepare hospital locations to be fed into the OSRM engine as strings\n",
    "hospitals_loc=\";\".join([str(i[1])+','+str(i[0]) for i in hospitals[['lat','lon']].values])\n"
   ],
   "metadata": {
    "collapsed": false,
    "pycharm": {
     "name": "#%%\n"
    }
   }
  },
  {
   "cell_type": "markdown",
   "source": [
    "## Calculate travel times from each region to the nearest hospital# osrm server address"
   ],
   "metadata": {
    "collapsed": false
   }
  },
  {
   "cell_type": "code",
   "execution_count": 16,
   "outputs": [
    {
     "name": "stdout",
     "output_type": "stream",
     "text": [
      "[17624.5]ch 0, [0,1] of 1278\n",
      "Int64Index([0], dtype='int64')\n",
      "\n",
      "\n",
      "0\n"
     ]
    }
   ],
   "source": [
    "osrm_server=\"http://0.0.0.0:5000\"\n",
    "server=osrm_server+\"/table/v1/driving/\"\n",
    "\n",
    "batch=1\n",
    "POI='hospital'\n",
    "\n",
    "buffer=10/60.  #10 minutes, in hours\n",
    "overalpenalty=1.05  #5%\n",
    "\n",
    "# create a new column in the Geodataframe for the time and distance\n",
    "origins['t_'+POI]=-1\n",
    "origins['m_'+POI]=-1\n",
    "\n",
    "for i in np.arange(origins.shape[0]/batch):\n",
    "    print(\"Doing batch %i, [%i,%i] of %i\"\n",
    "          %(i,batch*i,batch*(i+1),origins.shape[0]),end=\"\\r\")\n",
    "    origins_batch=origins.iloc[int(batch*i):].head(n=batch)\n",
    "\n",
    "    destinations=\";\".join([str(i[1])+','+str(i[0]) for i in origins_batch[['center_lat','center_lon']].values])\n",
    "    destinations_number=origins_batch.index\n",
    "\n",
    "    trail=\".json?destinations=\"+\\\n",
    "    ';'.join([str(x) for x in np.arange(len(hospitals))])+\\\n",
    "    \"&sources=\"+\\\n",
    "    ';'.join([str(x) for x in np.arange(len(hospitals),len(hospitals)+len(origins_batch))])\n",
    "\n",
    "    fullurl= server+hospitals_loc+\";\"+destinations+trail\n",
    "    response = requests.get(fullurl)\n",
    "\n",
    "    response.raise_for_status()\n",
    "    durations_matrix=json.loads(response.text)['durations']\n",
    "    durations=[]\n",
    "    hospital_min=[]\n",
    "    try:\n",
    "        for origin in np.arange(np.shape(durations_matrix)[0]):\n",
    "            durations+=[min(durations_matrix[origin])]\n",
    "            hospital_min+=[np.argmin(durations_matrix[origin])]\n",
    "        print(durations)\n",
    "        print(destinations_number)\n",
    "        print('\\n')\n",
    "        for j in np.arange(len(durations)):\n",
    "            print(destinations_number[j])\n",
    "            origins.loc[[destinations_number[j]], ['t_'+POI]]=buffer+durations[j]/60./60.*overalpenalty\n",
    "            origins.loc[[destinations_number[j]], ['m_'+POI]]=hospital_min[j]\n",
    "    except:\n",
    "        logging.warning('Batch '+str(i)+' processing failed. Check if OSRM data covers area.')\n",
    "        continue\n",
    "    break"
   ],
   "metadata": {
    "collapsed": false,
    "pycharm": {
     "name": "#%%\n"
    }
   }
  },
  {
   "cell_type": "code",
   "execution_count": 12,
   "outputs": [
    {
     "name": "stderr",
     "output_type": "stream",
     "text": [
      "ERROR:fiona._env:data/ethiopia/results/origins_1278_results.geojson: No such file or directory\n",
      "WARNING:fiona._env:driver GeoJSON does not support creation option ENCODING\n"
     ]
    }
   ],
   "source": [
    "# save files\n",
    "origins.to_file(RESULTSFILEPATH+'/origins_'+str(len(origins))+'_results.geojson', driver='GeoJSON')\n",
    "origins.to_file(RESULTSFILEPATH+'/origins_'+str(len(origins))+'_results.shp', driver='ESRI Shapefile')\n",
    "with open(RESULTSFILEPATH+'/'+LOCATION+'_'+str(len(origins))+'-results.pickle', 'wb') as handle:\n",
    "    pickle.dump([hospitals,origins], handle, protocol=pickle.HIGHEST_PROTOCOL)"
   ],
   "metadata": {
    "collapsed": false,
    "pycharm": {
     "name": "#%%\n"
    }
   }
  },
  {
   "cell_type": "code",
   "execution_count": 13,
   "metadata": {},
   "outputs": [
    {
     "data": {
      "text/plain": "<Figure size 432x288 with 1 Axes>",
      "image/png": "[encoded data removed]"
     },
     "metadata": {
      "needs_background": "light"
     },
     "output_type": "display_data"
    }
   ],
   "source": [
    "# Plot\n",
    "%matplotlib inline\n",
    "plt.figure()\n",
    "origins['t_'+POI].plot.hist(alpha=0.5,bins=500,cumulative=False,density=True)\n",
    "plt.ylabel('% of total population')\n",
    "plt.xlabel('Distance to nearest '+POI+' [h]')\n",
    "plt.savefig('travel_time_dist.pdf')\n",
    "plt.show()"
   ]
  },
  {
   "cell_type": "code",
   "execution_count": 110,
   "outputs": [
    {
     "data": {
      "text/plain": "<Figure size 432x288 with 1 Axes>",
      "image/png": "[encoded data removed]"
     },
     "metadata": {
      "needs_background": "light"
     },
     "output_type": "display_data"
    }
   ],
   "source": [
    "plt.figure()\n",
    "origins['t_'+usual_origin].plot.hist(alpha=0.5,bins=500,cumulative=True,density=True,weights=origins['tot_pop'])\n",
    "plt.ylabel('% of population')\n",
    "plt.xlabel('Distance to nearest '+usual_origin+' [hours]')\n",
    "plt.show()"
   ],
   "metadata": {
    "collapsed": false,
    "pycharm": {
     "name": "#%%\n"
    }
   }
  },
  {
   "cell_type": "code",
   "execution_count": 108,
   "outputs": [
    {
     "ename": "NameError",
     "evalue": "name 'weight_array' is not defined",
     "output_type": "error",
     "traceback": [
      "\u001B[0;31m---------------------------------------------------------------------------\u001B[0m",
      "\u001B[0;31mNameError\u001B[0m                                 Traceback (most recent call last)",
      "\u001B[0;32m<ipython-input-108-e463367101cd>\u001B[0m in \u001B[0;36m<module>\u001B[0;34m\u001B[0m\n\u001B[1;32m      1\u001B[0m \u001B[0;32mfor\u001B[0m \u001B[0mi\u001B[0m \u001B[0;32min\u001B[0m \u001B[0mnp\u001B[0m\u001B[0;34m.\u001B[0m\u001B[0marange\u001B[0m\u001B[0;34m(\u001B[0m\u001B[0;36m10\u001B[0m\u001B[0;34m,\u001B[0m\u001B[0;36m101\u001B[0m\u001B[0;34m,\u001B[0m\u001B[0;36m10\u001B[0m\u001B[0;34m)\u001B[0m\u001B[0;34m:\u001B[0m\u001B[0;34m\u001B[0m\u001B[0;34m\u001B[0m\u001B[0m\n\u001B[1;32m      2\u001B[0m     print(\"El %i%% de la población en Asturias tarda %2.1f minutos en llegar al destino: %s\"%\n\u001B[0;32m----> 3\u001B[0;31m          (i,np.percentile(weight_array(origins['t_'+usual_origin].values*60, origins['tot_pop'].values), i),usual_origin))\n\u001B[0m\u001B[1;32m      4\u001B[0m \u001B[0;34m\u001B[0m\u001B[0m\n",
      "\u001B[0;31mNameError\u001B[0m: name 'weight_array' is not defined"
     ]
    }
   ],
   "source": [
    "for i in np.arange(10,101,10):\n",
    "    print(\"El %i%% de la población en Asturias tarda %2.1f minutos en llegar al destino: %s\"%\n",
    "         (i,np.percentile(weight_array(origins['t_'+usual_origin].values*60, origins['tot_pop'].values), i),usual_origin))"
   ],
   "metadata": {
    "collapsed": false,
    "pycharm": {
     "name": "#%%\n"
    }
   }
  },
  {
   "cell_type": "code",
   "execution_count": null,
   "outputs": [],
   "source": [
    "lejos=origins[origins['t_'+usual_origin]>1].sort_values(by='t_'+usual_origin,ascending=False)\n",
    "\n",
    "for index,lugar in lejos.head(n=5).iterrows():\n",
    "    print(\"%i personas en %s tardan %2.1f horas en llegar al destino: %s\"%\n",
    "         (lugar[\"POBLACION\"],lugar[\"NOMBRE\"],lugar[\"t_\"+usual_origin],usual_origin))\n",
    "    get_route_link([hospitales.loc[lugar['m_hospital']]['lon'],hospitales.loc[lugar['m_hospital']]['lat']],\n",
    "                   [lugar['lon'],lugar['lat']])\n",
    "\n",
    "\n",
    "origins.to_file(\"data/origins.geojson\", driver=\"GeoJSON\")"
   ],
   "metadata": {
    "collapsed": false,
    "pycharm": {
     "name": "#%%\n"
    }
   }
  }
 ],
 "metadata": {
  "kernelspec": {
   "display_name": "PyCharm (covid19)",
   "language": "python",
   "name": "pycharm-83803e52"
  },
  "language_info": {
   "codemirror_mode": {
    "name": "ipython",
    "version": 3
   },
   "file_extension": ".py",
   "mimetype": "text/x-python",
   "name": "python",
   "nbconvert_exporter": "python",
   "pygments_lexer": "ipython3",
   "version": "3.8.2"
  }
 },
 "nbformat": 4,
 "nbformat_minor": 2
}