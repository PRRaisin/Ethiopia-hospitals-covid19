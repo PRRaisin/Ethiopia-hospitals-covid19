{
 "cells": [
  {
   "cell_type": "markdown",
   "metadata": {},
   "source": [
    "# COVID Hospital mapping for Ethiopia"
   ]
  },
  {
   "cell_type": "code",
   "execution_count": 7,
   "outputs": [],
   "source": [
    "import numpy as np\n",
    "import rasterio\n",
    "import pandas as pd\n",
    "from rasterio.windows import Window\n",
    "from matplotlib import pyplot\n",
    "import matplotlib.pyplot as plt\n",
    "import geopandas as gdp\n",
    "import geopandas as gpd\n",
    "from shapely.geometry import Point\n",
    "from shapely.geometry import box\n",
    "import requests #http framework to make mhvpl requests for routes\n",
    "import json # handle response as json\n",
    "from geopy.distance import vincenty\n",
    "import pickle\n",
    "import preprocessing\n",
    "\n",
    "log = logging.getLogger(__name__)"
   ],
   "metadata": {
    "collapsed": false,
    "pycharm": {
     "name": "#%%\n"
    }
   }
  },
  {
   "cell_type": "markdown",
   "source": [
    "## Prepare population data"
   ],
   "metadata": {
    "collapsed": false,
    "pycharm": {
     "name": "#%% md\n"
    }
   }
  },
  {
   "cell_type": "code",
   "execution_count": 6,
   "outputs": [],
   "source": [
    "CRS ='epsg:4326'\n",
    "LOCATION = 'ethiopia'\n",
    "DATAPATH = 'data/' + LOCATION\n",
    "RAWFILEPATH  = DATAPATH +  '/raw'\n",
    "PROCESSEDFILEPATH = DATAPATH + '/processed'\n",
    "RESULTSFILEPATH = DATAPATH + '/results'\n",
    "\n",
    "# Facebooks HRSL dataset\n",
    "map_file = RAWFILEPATH+\"/population_eth_2018-10-01.tif\"\n"
   ],
   "metadata": {
    "collapsed": false,
    "pycharm": {
     "name": "#%%\n"
    }
   }
  },
  {
   "cell_type": "code",
   "execution_count": null,
   "outputs": [],
   "source": [
    "def get_pop(map_file,left_x,top_y,window,plot=False):\n",
    "    \"\"\"\n",
    "    get_pop(raster filename,left_x,top_y,window,plot=False)\n",
    "\n",
    "    Given a raster file, and row,cols ranges,\n",
    "    return the lonlat of the ranges, nancount, and the nunsum\n",
    "\n",
    "    Optionally plot the raster window [False]\n",
    "    \"\"\"\n",
    "    right_x,bottom_y = left_x + window, top_y + window\n",
    "    with rasterio.open(map_file) as src:\n",
    "        left_lon, top_lat = src.xy(top_y,left_x)\n",
    "        right_lon, bottom_lat = src.xy(bottom_y, right_x )\n",
    "        center_lon , center_lat = (right_lon + left_lon)/2., (top_lat+bottom_lat)/2.\n",
    "                             #Window(col_off, row_off, width, height)\n",
    "        w = src.read(1, window=Window(left_x, top_y, window, window))\n",
    "        if plot:\n",
    "            pyplot.imshow(w, cmap='pink')\n",
    "            pyplot.show()\n",
    "        nancount=np.count_nonzero(~np.isnan(w))\n",
    "        count = np.size(w)\n",
    "        tot_pop=np.nansum(w)\n",
    "    if count == 0:\n",
    "        return {} #Out of bounds\n",
    "    if tot_pop == 0 or window < 1: #Mark the window no further split.\n",
    "        split=False\n",
    "    else:\n",
    "        split=True\n",
    "    out={'window':window,\n",
    "         'left_x':left_x,\n",
    "         'right_x':right_x,\n",
    "         'top_y':top_y,\n",
    "         'bottom_y':bottom_y,\n",
    "         'left_lon':left_lon,\n",
    "         'top_lat':top_lat,\n",
    "         'right_lon':right_lon,\n",
    "         'bottom_lat':bottom_lat,\n",
    "         'center_lon':center_lon ,\n",
    "         'center_lat':center_lat,\n",
    "         'count': count,\n",
    "         'nancount':nancount,\n",
    "         'tot_pop':tot_pop,\n",
    "         'split': split}\n",
    "    return out"
   ],
   "metadata": {
    "collapsed": false,
    "pycharm": {
     "name": "#%%\n"
    }
   }
  },
  {
   "cell_type": "code",
   "execution_count": null,
   "outputs": [],
   "source": [
    "def split(map_file,origin,plot=False):\n",
    "    \"\"\"\n",
    "    Split a window row in 4 parts, and return new rows results\n",
    "    \"\"\"\n",
    "    origins=pd.DataFrame()\n",
    "    window=int(origin.window/2)\n",
    "    for left_x in np.arange(origin.left_x,origin.right_x,window):\n",
    "        for top_y in np.arange(origin.top_y,origin.bottom_y,window):\n",
    "            out=get_pop(map_file,left_x,top_y,window,plot=plot)\n",
    "            if out != {}:\n",
    "                origins=origins.append([out])\n",
    "    return origins"
   ],
   "metadata": {
    "collapsed": false,
    "pycharm": {
     "name": "#%%\n"
    }
   }
  },
  {
   "cell_type": "code",
   "execution_count": 3,
   "metadata": {},
   "outputs": [
    {
     "name": "stdout",
     "output_type": "stream",
     "text": [
      "52000/53824\r"
     ]
    }
   ],
   "source": [
    "#Initial scan the raster map with big windows\n",
    "origins=pd.DataFrame()\n",
    "window=2000\n",
    "\n",
    "with rasterio.open(map_file) as src:\n",
    "    a=src.xy(0,1)\n",
    "    for left_x in np.arange(0,src.width,window):\n",
    "        for top_y in np.arange(0,src.height,window):\n",
    "            out=get_pop(map_file,left_x,top_y,window,plot=False)\n",
    "            if out != {}:\n",
    "                origins=origins.append([out])\n",
    "        print(\"%i/%i\\r\"%(left_x,src.width),end=\"\")"
   ]
  },
  {
   "cell_type": "code",
   "execution_count": 6,
   "outputs": [
    {
     "name": "stdout",
     "output_type": "stream",
     "text": [
      "348 regions need splitting\n",
      "done.67\n",
      "We now have 1959 regions, 1278 will be split in next round\n"
     ]
    }
   ],
   "source": [
    "#Perform a splitting pass\n",
    "#Run this cell as many times as you want to split the windows\n",
    "print(\"%i regions need splitting\"%len(origins[origins['split']==True]))\n",
    "olen=len(origins)\n",
    "for i in np.arange(olen):\n",
    "    print(\"%i/%i\\r\"%(i+1,olen),end=\"\")\n",
    "    if origins.iloc[i,origins.columns.get_loc('split')] == True:\n",
    "        origins.iloc[i,origins.columns.get_loc('split')]='done'\n",
    "        s=split(map_file,origins.iloc[i])\n",
    "        origins=origins.append(s,sort=False)\n",
    "print(\"We now have %i regions, %i will be split in next round\"%(len(origins),len(origins[origins['split']==True])))"
   ],
   "metadata": {
    "collapsed": false,
    "pycharm": {
     "name": "#%%\n"
    }
   }
  },
  {
   "cell_type": "code",
   "execution_count": 7,
   "metadata": {},
   "outputs": [
    {
     "name": "stdout",
     "output_type": "stream",
     "text": [
      "We have 1278 regions of size 1000, 1278 with population >0\n"
     ]
    }
   ],
   "source": [
    "# Keep the regions whith popluation>1\n",
    "# and filter out the regions which have been split\n",
    "origins=origins[origins['tot_pop']>0]\n",
    "origins=origins[origins['split']!='done']\n",
    "print(\"We have %i regions of size %i, %i with population >0\"%\n",
    "      (len(origins),min(origins['window']),len(origins[origins['tot_pop']>0])))"
   ]
  },
  {
   "cell_type": "code",
   "execution_count": 11,
   "metadata": {},
   "outputs": [],
   "source": [
    "#transform into GeoDataFrame\n",
    "origins=gdp.GeoDataFrame(origins,crs='epsg:4326', geometry=[Point(xy) for xy in zip(origins['center_lon'], origins['center_lat'])])\n",
    "origins.geometry=origins.apply(lambda r: box(r.left_lon, r.bottom_lat, r.right_lon, r.top_lat, ccw=False),axis=1)"
   ]
  },
  {
   "cell_type": "code",
   "execution_count": 9,
   "metadata": {},
   "outputs": [],
   "source": [
    "# save shapefile\n",
    "origins.to_file(driver = 'ESRI Shapefile', filename = PROCESSEDFILEPATH+'/origin.shp')"
   ]
  },
  {
   "cell_type": "markdown",
   "source": [
    "## Import hospitals"
   ],
   "metadata": {
    "collapsed": false
   }
  },
  {
   "cell_type": "code",
   "execution_count": 6,
   "outputs": [
    {
     "name": "stdout",
     "output_type": "stream",
     "text": [
      "There are 151 hospital destinations\n"
     ]
    }
   ],
   "source": [
    "hospital_path = PROCESSEDFILEPATH+\"/ethiopia_hospitals.shp\"\n",
    "df = gpd.read_file(hospital_path).to_crs(CRS)\n",
    "df['lon']=df.geometry.centroid.x\n",
    "df['lat']=df.geometry.centroid.y\n",
    "df['name']=df['Facility n']\n",
    "hospitals=df[['name','lon','lat','geometry']]\n",
    "print(\"There are %i hospitals\"%len(hospitals))"
   ],
   "metadata": {
    "collapsed": false,
    "pycharm": {
     "name": "#%%\n"
    }
   }
  },
  {
   "cell_type": "markdown",
   "source": [
    "## Calculate travel times from each region to the nearest hospital"
   ],
   "metadata": {
    "collapsed": false,
    "pycharm": {
     "name": "#%% md\n"
    }
   }
  },
  {
   "cell_type": "code",
   "execution_count": 15,
   "outputs": [],
   "source": [
    "# prepare hospital locations to be fed into the OSRM engine as strings\n",
    "hospitals_loc=\";\".join([str(i[1])+','+str(i[0]) for i in hospitals[['lat','lon']].values])"
   ],
   "metadata": {
    "collapsed": false,
    "pycharm": {
     "name": "#%%\n"
    }
   }
  },
  {
   "cell_type": "code",
   "execution_count": 13,
   "outputs": [],
   "source": [
    "# Function to only keep the five closest hospitals to calculate the distances to\n",
    "def n_closest_geodetic(destinations,origins,n_keep,verbose=False):\n",
    "    \"\"\"\n",
    "    Given a list of origins and destinations, return the \"keep\" number\n",
    "    of destinations that are closest geodetically to each origin.\n",
    "\n",
    "    Input: destinations,origins <Geopandas>\n",
    "    Output: destinations filtered <Geopandas>\n",
    "    \"\"\"\n",
    "    destinations=destinations.to_crs(origins.crs)\n",
    "    filtered=gdp.GeoDataFrame()\n",
    "\n",
    "    if verbose:\n",
    "        i=0\n",
    "        l=len(origins.index)\n",
    "    for index in origins.index:\n",
    "        if verbose:\n",
    "            i=i+1\n",
    "            print(\"Doing %i of %i\\r\"%(i,l),end=\"\")\n",
    "        distances=destinations.distance(origins.loc[index].geometry)\n",
    "        if len(distances) < n_keep:\n",
    "            n_keep = len(distances)\n",
    "        #query indices\n",
    "        indices=np.argsort(distances.values)[:n_keep]\n",
    "        values=np.sort(distances.values)[:n_keep]\n",
    "        #destination indices\n",
    "        d_indices=distances.index[indices]\n",
    "        filtered = filtered.append(destinations.iloc[indices])\n",
    "\n",
    "    if verbose:\n",
    "        print('done')\n",
    "    return filtered.append(filtered).drop_duplicates(inplace=False)"
   ],
   "metadata": {
    "collapsed": false,
    "pycharm": {
     "name": "#%%\n"
    }
   }
  },
  {
   "cell_type": "code",
   "execution_count": 24,
   "outputs": [
    {
     "name": "stdout",
     "output_type": "stream",
     "text": [
      "doneg 5 of 5\n"
     ]
    }
   ],
   "source": [
    "# List of all the hospitals which are at least for one of the origin points\n",
    "# among the top \"n_keep\" hospitals wrt geodesic distance.\n",
    "test_o = origins.sample(frac=1).reset_index(drop=True).head(5)\n",
    "test_d = hospitals.sample(frac=1).reset_index(drop=True).head(10)\n",
    "filtered = n_closest_geodetic(test_d,test_o,3,verbose=True)\n"
   ],
   "metadata": {
    "collapsed": false,
    "pycharm": {
     "name": "#%%\n"
    }
   }
  },
  {
   "cell_type": "code",
   "execution_count": 6,
   "outputs": [],
   "source": [
    "# go in\n",
    "h=hospitals.reset_index(drop=True)\n",
    "o=origins.reset_index(drop=True)"
   ],
   "metadata": {
    "collapsed": false,
    "pycharm": {
     "name": "#%%\n"
    }
   }
  },
  {
   "cell_type": "code",
   "execution_count": 26,
   "outputs": [],
   "source": [
    "# save the data for later usage\n",
    "#SAVE\n",
    "with open(PROCESSEDFILEPATH+'/'+LOCATION+'_1959-h-o.pickle', 'wb') as handle:\n",
    "    pickle.dump([h,o], handle, protocol=pickle.HIGHEST_PROTOCOL)"
   ],
   "metadata": {
    "collapsed": false,
    "pycharm": {
     "name": "#%%\n"
    }
   }
  },
  {
   "cell_type": "code",
   "execution_count": 21,
   "outputs": [],
   "source": [
    "#LOAD\n",
    "with open('data/ethiopia_15997-h-o.pickle', 'rb') as handle:\n",
    "    h,o = pickle.load(handle)"
   ],
   "metadata": {
    "collapsed": false,
    "pycharm": {
     "name": "#%%\n"
    }
   }
  },
  {
   "cell_type": "code",
   "execution_count": 25,
   "outputs": [
    {
     "name": "stdout",
     "output_type": "stream",
     "text": [
      "Doing batch 1599, [15990,16000] of 15997\r"
     ]
    }
   ],
   "source": [
    "# osrm server address\n",
    "osrm_server=\"http://0.0.0.0:5000\"\n",
    "server=osrm_server+\"/table/v1/driving/\"\n",
    "comma=\"%2C\"\n",
    "Sep=\"%3B\"\n",
    "\n",
    "batch=10\n",
    "usual_origin='hospital'\n",
    "\n",
    "origins = o\n",
    "hospitals = h\n",
    "\n",
    "buffer=10/60.  #10 minutes, in hours\n",
    "overalpenalty=1.05  #5%\n",
    "\n",
    "# create a new column in the Geodataframe for the time and initilize with -1\n",
    "origins['t_'+usual_origin]=-1\n",
    "origins['m_'+usual_origin]=-1\n",
    "\n",
    "for i in np.arange(origins.shape[0]/batch):\n",
    "    print(\"Doing batch %i, [%i,%i] of %i\"\n",
    "          %(i,batch*i,batch*(i+1),origins.shape[0]),end=\"\\r\")\n",
    "    origins_batch=origins.iloc[int(batch*i):].head(n=batch)\n",
    "\n",
    "    destinations=\";\".join([str(i[1])+','+str(i[0]) for i in origins_batch[['center_lat','center_lon']].values])\n",
    "    destinations_number=origins_batch.index\n",
    "\n",
    "    trail=\".json?destinations=\"+\\\n",
    "    ';'.join([str(x) for x in np.arange(len(hospitals))])+\\\n",
    "    \"&sources=\"+\\\n",
    "    ';'.join([str(x) for x in np.arange(len(hospitals),len(hospitals)+len(origins_batch))])\n",
    "\n",
    "    fullurl= server+hospitals_loc+\";\"+destinations+trail\n",
    "    counter= 0\n",
    "    response = requests.get(fullurl)\n",
    "    try:\n",
    "        response.raise_for_status()\n",
    "        durations_matrix=json.loads(response.text)['durations']\n",
    "\n",
    "        durations=[]\n",
    "        hospital_min=[]\n",
    "        for origen in np.arange(np.shape(durations_matrix)[0]):\n",
    "            durations+=[min(durations_matrix[origen])]\n",
    "            hospital_min+=[np.argmin(durations_matrix[origen])]\n",
    "        for i in np.arange(len(durations)):\n",
    "            origins.loc[[destinations_number[i]], ['t_'+usual_origin]]=buffer+durations[i]/60./60.*overalpenalty\n",
    "            origins.loc[[destinations_number[i]], ['m_'+usual_origin]]=hospital_min[i]\n",
    "\n",
    "    except:\n",
    "        counter = counter+1\n",
    "        continue"
   ],
   "metadata": {
    "collapsed": false,
    "pycharm": {
     "name": "#%%\n"
    }
   }
  },
  {
   "cell_type": "code",
   "execution_count": 24,
   "metadata": {},
   "outputs": [
    {
     "data": {
      "text/plain": "<Figure size 432x288 with 1 Axes>",
      "image/png": "[encoded data removed]"
     },
     "metadata": {
      "needs_background": "light"
     },
     "output_type": "display_data"
    }
   ],
   "source": [
    "%matplotlib inline\n",
    "plt.figure()\n",
    "origins['t_'+usual_origin].plot.hist(alpha=0.5,bins=500,cumulative=False,density=True)\n",
    "plt.ylabel('% of total population')\n",
    "plt.xlabel('Distance to nearest '+usual_origin+' [h]')\n",
    "plt.savefig('travel_time_dist.pdf')\n",
    "plt.show()"
   ]
  },
  {
   "cell_type": "code",
   "execution_count": 27,
   "outputs": [],
   "source": [
    "origins.to_file(RESULTSFILEPATH+'/origins_15997_hospitals_final.geojson', driver='GeoJSON')\n",
    "origins.to_file(RESULTSFILEPATH+'origins_15997_hospitals_final.shp', driver='ESRI Shapefile')\n",
    "j"
   ],
   "metadata": {
    "collapsed": false,
    "pycharm": {
     "name": "#%%\n"
    }
   }
  },
  {
   "cell_type": "code",
   "execution_count": 110,
   "outputs": [
    {
     "data": {
      "text/plain": "<Figure size 432x288 with 1 Axes>",
      "image/png": "[encoded data removed]"
     },
     "metadata": {
      "needs_background": "light"
     },
     "output_type": "display_data"
    }
   ],
   "source": [
    "plt.figure()\n",
    "origins['t_'+usual_origin].plot.hist(alpha=0.5,bins=500,cumulative=True,density=True,weights=origins['tot_pop'])\n",
    "plt.ylabel('% of population')\n",
    "plt.xlabel('Distance to nearest '+usual_origin+' [hours]')\n",
    "plt.show()"
   ],
   "metadata": {
    "collapsed": false,
    "pycharm": {
     "name": "#%%\n"
    }
   }
  },
  {
   "cell_type": "code",
   "execution_count": 108,
   "outputs": [
    {
     "ename": "NameError",
     "evalue": "name 'weight_array' is not defined",
     "output_type": "error",
     "traceback": [
      "\u001B[0;31m---------------------------------------------------------------------------\u001B[0m",
      "\u001B[0;31mNameError\u001B[0m                                 Traceback (most recent call last)",
      "\u001B[0;32m<ipython-input-108-e463367101cd>\u001B[0m in \u001B[0;36m<module>\u001B[0;34m\u001B[0m\n\u001B[1;32m      1\u001B[0m \u001B[0;32mfor\u001B[0m \u001B[0mi\u001B[0m \u001B[0;32min\u001B[0m \u001B[0mnp\u001B[0m\u001B[0;34m.\u001B[0m\u001B[0marange\u001B[0m\u001B[0;34m(\u001B[0m\u001B[0;36m10\u001B[0m\u001B[0;34m,\u001B[0m\u001B[0;36m101\u001B[0m\u001B[0;34m,\u001B[0m\u001B[0;36m10\u001B[0m\u001B[0;34m)\u001B[0m\u001B[0;34m:\u001B[0m\u001B[0;34m\u001B[0m\u001B[0;34m\u001B[0m\u001B[0m\n\u001B[1;32m      2\u001B[0m     print(\"El %i%% de la población en Asturias tarda %2.1f minutos en llegar al destino: %s\"%\n\u001B[0;32m----> 3\u001B[0;31m          (i,np.percentile(weight_array(origins['t_'+usual_origin].values*60, origins['tot_pop'].values), i),usual_origin))\n\u001B[0m\u001B[1;32m      4\u001B[0m \u001B[0;34m\u001B[0m\u001B[0m\n",
      "\u001B[0;31mNameError\u001B[0m: name 'weight_array' is not defined"
     ]
    }
   ],
   "source": [
    "for i in np.arange(10,101,10):\n",
    "    print(\"El %i%% de la población en Asturias tarda %2.1f minutos en llegar al destino: %s\"%\n",
    "         (i,np.percentile(weight_array(origins['t_'+usual_origin].values*60, origins['tot_pop'].values), i),usual_origin))"
   ],
   "metadata": {
    "collapsed": false,
    "pycharm": {
     "name": "#%%\n"
    }
   }
  },
  {
   "cell_type": "code",
   "execution_count": null,
   "outputs": [],
   "source": [
    "lejos=origins[origins['t_'+usual_origin]>1].sort_values(by='t_'+usual_origin,ascending=False)\n",
    "\n",
    "for index,lugar in lejos.head(n=5).iterrows():\n",
    "    print(\"%i personas en %s tardan %2.1f horas en llegar al destino: %s\"%\n",
    "         (lugar[\"POBLACION\"],lugar[\"NOMBRE\"],lugar[\"t_\"+usual_origin],usual_origin))\n",
    "    get_route_link([hospitales.loc[lugar['m_hospital']]['lon'],hospitales.loc[lugar['m_hospital']]['lat']],\n",
    "                   [lugar['lon'],lugar['lat']])\n",
    "\n",
    "\n",
    "origins.to_file(\"data/origins.geojson\", driver=\"GeoJSON\")"
   ],
   "metadata": {
    "collapsed": false,
    "pycharm": {
     "name": "#%%\n"
    }
   }
  }
 ],
 "metadata": {
  "kernelspec": {
   "display_name": "PyCharm (covid19)",
   "language": "python",
   "name": "pycharm-83803e52"
  },
  "language_info": {
   "codemirror_mode": {
    "name": "ipython",
    "version": 3
   },
   "file_extension": ".py",
   "mimetype": "text/x-python",
   "name": "python",
   "nbconvert_exporter": "python",
   "pygments_lexer": "ipython3",
   "version": "3.8.2"
  }
 },
 "nbformat": 4,
 "nbformat_minor": 2
}